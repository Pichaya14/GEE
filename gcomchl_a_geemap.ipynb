{
  "cells": [
    {
      "cell_type": "markdown",
      "metadata": {},
      "source": [
        "## Import libraries"
      ]
    },
    {
      "cell_type": "code",
      "metadata": {},
      "source": [
        "import ee\n",
        "import geemap"
      ],
      "outputs": [],
      "execution_count": null
    },
    {
      "cell_type": "markdown",
      "metadata": {},
      "source": [
        "## Create an interactive map"
      ]
    },
    {
      "cell_type": "code",
      "metadata": {},
      "source": [
        "Map = geemap.Map(center=[40, -100], zoom=4)"
      ],
      "outputs": [],
      "execution_count": null
    },
    {
      "cell_type": "markdown",
      "metadata": {},
      "source": [
        "## Add Earth Engine Python script"
      ]
    },
    {
      "cell_type": "code",
      "metadata": {},
      "source": [
        "# Add Earth Engine dataset\n",
        "image = ee.Image(\"USGS/SRTMGL1_003\")\n",
        "#*** Start of imports. If edited, may not auto-convert in the playground. ***#\n",
        "roi =\n",
        "\n",
        "    # shown: False #\n",
        "    # displayProperties: [\n",
        "      {\n",
        "        \"type\": \"rectangle\"\n",
        "      }\n",
        "    ] #\n",
        "    ee.Geometry.Polygon(\n",
        "        [[[-4.58131015083768, 22.697903106722446],\n",
        "          [-4.58131015083768, -45.99486601538318],\n",
        "          [80.14525234916232, -45.99486601538318],\n",
        "          [80.14525234916232, 22.697903106722446]]], None, False),\n",
        "    vis = {\"bands\":[\"CHLA_AVE\"],\"min\":-2,\"max\":2,\"palette\":[\"3500a8\",\"0800ba\",\"003fd6\",\"00aca9\",\"77f800\",\"ff8800\",\"b30000\",\"920000\",\"880000\"]}\n",
        "#**** End of imports. If edited, may not auto-convert in the playground. ****#\n",
        "wiosym = ee.Image('users/PichayaMelody123/wiosymmarin')\n",
        "Map.addLayer(wiosym)\n",
        "\n",
        "April = ee.ImageCollection('JAXA/GCOM-C/L3/OCEAN/CHLA/V1') \\\n",
        "                .filterDate('202-12-01', '2021-12_30') \\\n",
        "                .filter(ee.Filter.eq('SATELLITE_DIRECTION', 'D'))\n",
        "print(April)\n",
        "\n",
        "# Multiply with slope coefficient\n",
        "april = April.mean().multiply(0.0016).log10()\n",
        "print(april)\n",
        "\n",
        "\n",
        "Map.addLayer(april.clip(roi), vis, 'Chlorophyll-a concentration')\n",
        "\n",
        "Export.image.toDrive({\n",
        "  'image' : april.clip(roi),\n",
        "  'description': 'Chl_a',\n",
        "  'maxPixels': 3784216672400})"
      ],
      "outputs": [],
      "execution_count": null
    },
    {
      "cell_type": "markdown",
      "metadata": {},
      "source": [
        "## Display the interactive map"
      ]
    },
    {
      "cell_type": "code",
      "metadata": {},
      "source": [
        "Map"
      ],
      "outputs": [],
      "execution_count": null
    }
  ],
  "metadata": {
    "anaconda-cloud": {},
    "kernelspec": {
      "display_name": "Python 3",
      "language": "python",
      "name": "python3"
    },
    "language_info": {
      "codemirror_mode": {
        "name": "ipython",
        "version": 3
      },
      "file_extension": ".py",
      "mimetype": "text/x-python",
      "name": "python",
      "nbconvert_exporter": "python",
      "pygments_lexer": "ipython3",
      "version": "3.6.1"
    }
  },
  "nbformat": 4,
  "nbformat_minor": 4
}