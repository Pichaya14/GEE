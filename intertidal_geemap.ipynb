{
  "cells": [
    {
      "cell_type": "markdown",
      "metadata": {},
      "source": [
        "## Import libraries"
      ]
    },
    {
      "cell_type": "code",
      "metadata": {},
      "source": [
        "import ee\n",
        "import geemap"
      ],
      "outputs": [],
      "execution_count": null
    },
    {
      "cell_type": "markdown",
      "metadata": {},
      "source": [
        "## Create an interactive map"
      ]
    },
    {
      "cell_type": "code",
      "metadata": {},
      "source": [
        "Map = geemap.Map(center=[40, -100], zoom=4)"
      ],
      "outputs": [],
      "execution_count": null
    },
    {
      "cell_type": "markdown",
      "metadata": {},
      "source": [
        "## Add Earth Engine Python script"
      ]
    },
    {
      "cell_type": "code",
      "metadata": {},
      "source": [
        "# Add Earth Engine dataset\n",
        "image = ee.Image(\"USGS/SRTMGL1_003\")\n",
        "#*** Start of imports. If edited, may not auto-convert in the playground. ***#\n",
        "aoi =\n",
        "\n",
        "    # displayProperties: [\n",
        "      {\n",
        "        \"type\": \"rectangle\"\n",
        "      }\n",
        "    ] #\n",
        "    ee.Geometry.Polygon(\n",
        "        [[[-23.196328877875377, 25.426571732673924],\n",
        "          [-23.196328877875377, -45.380577059318085],\n",
        "          [81.92085862212463, -45.380577059318085],\n",
        "          [81.92085862212463, 25.426571732673924]]], None, False)\n",
        "#**** End of imports. If edited, may not auto-convert in the playground. ****#\n",
        "dataset = ee.ImageCollection('UQ/murray/Intertidal/v1_1/global_intertidal')\n",
        "\n",
        "visualization = {\n",
        "  'bands': ['classification'],\n",
        "  'min': 0.0,\n",
        "  'max': 1.0,\n",
        "  'palette': ['0000FF']\n",
        "}\n",
        "\n",
        "Int2002_2004 = ee.Image('UQ/murray/Intertidal/v1_1/global_intertidal/2002-2004')\n",
        "\n",
        "Int2011_2013 = ee.Image('UQ/murray/Intertidal/v1_1/global_intertidal/2011-2013')\n",
        "\n",
        "\n",
        "Int2014_2016 = ee.Image('UQ/murray/Intertidal/v1_1/global_intertidal/2014-2016')\n",
        "\n",
        "\n",
        "\n",
        "Map.addLayer(dataset, visualization, 'Intertidal areas')\n",
        "\n",
        "Export.image.toDrive({\n",
        "  'image' : Int2002_2004.clip(aoi),\n",
        "  'description': 'Intertidal_areas2002-04',\n",
        "  'maxPixels': 3784216672400,\n",
        "  'region' : aoi})\n",
        "\n",
        "Export.image.toDrive({\n",
        "  'image' : Int2011_2013.clip(aoi),\n",
        "  'description': 'Int2011_2013',\n",
        "  'maxPixels': 3784216672400,\n",
        "  'region' : aoi})\n",
        "\n",
        "Export.image.toDrive({\n",
        "  'image' : Int2014_2016.clip(aoi),\n",
        "  'description': 'Intertidal_areas2014-2016',\n",
        "  'maxPixels': 3784216672400,\n",
        "  'region' : aoi})\n"
      ],
      "outputs": [],
      "execution_count": null
    },
    {
      "cell_type": "markdown",
      "metadata": {},
      "source": [
        "## Display the interactive map"
      ]
    },
    {
      "cell_type": "code",
      "metadata": {},
      "source": [
        "Map"
      ],
      "outputs": [],
      "execution_count": null
    }
  ],
  "metadata": {
    "anaconda-cloud": {},
    "kernelspec": {
      "display_name": "Python 3",
      "language": "python",
      "name": "python3"
    },
    "language_info": {
      "codemirror_mode": {
        "name": "ipython",
        "version": 3
      },
      "file_extension": ".py",
      "mimetype": "text/x-python",
      "name": "python",
      "nbconvert_exporter": "python",
      "pygments_lexer": "ipython3",
      "version": "3.6.1"
    }
  },
  "nbformat": 4,
  "nbformat_minor": 4
}