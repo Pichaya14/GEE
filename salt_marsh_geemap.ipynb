{
  "cells": [
    {
      "cell_type": "markdown",
      "metadata": {},
      "source": [
        "## Import libraries"
      ]
    },
    {
      "cell_type": "code",
      "metadata": {},
      "source": [
        "import ee\n",
        "import geemap"
      ],
      "outputs": [],
      "execution_count": null
    },
    {
      "cell_type": "markdown",
      "metadata": {},
      "source": [
        "## Create an interactive map"
      ]
    },
    {
      "cell_type": "code",
      "metadata": {},
      "source": [
        "Map = geemap.Map(center=[40, -100], zoom=4)"
      ],
      "outputs": [],
      "execution_count": null
    },
    {
      "cell_type": "markdown",
      "metadata": {},
      "source": [
        "## Add Earth Engine Python script"
      ]
    },
    {
      "cell_type": "code",
      "metadata": {},
      "source": [
        "# Add Earth Engine dataset\n",
        "image = ee.Image(\"USGS/SRTMGL1_003\")\n",
        "#*** Start of imports. If edited, may not auto-convert in the playground. ***#\n",
        "wio_area = ee.Image(\"users/PichayaMelody123/wiosymmarin\"),\n",
        "    aoi =\n",
        "\n",
        "    # displayProperties: [\n",
        "      {\n",
        "        \"type\": \"rectangle\"\n",
        "      }\n",
        "    ] #\n",
        "    ee.Geometry.Polygon(\n",
        "        [[[7.438755266211179, 16.46769474828897],\n",
        "          [7.438755266211179, -40.58058466412763],\n",
        "          [78.98172401621117, -40.58058466412763],\n",
        "          [78.98172401621117, 16.46769474828897]]], None, False),\n",
        "    geometry =\n",
        "\n",
        "    # shown: False #\n",
        "    ee.Geometry.MultiPoint()\n",
        "#**** End of imports. If edited, may not auto-convert in the playground. ****#\n",
        "\n",
        "# SALT MARSH LAYER PREPROCESSING\n",
        "dataset = ee.ImageCollection('UQ/murray/Intertidal/v1_1/global_intertidal')\n",
        "\n",
        "Int2002_2004 = ee.Image('UQ/murray/Intertidal/v1_1/global_intertidal/2002-2004')\n",
        "\n",
        "Int2011_2013 = ee.Image('UQ/murray/Intertidal/v1_1/global_intertidal/2011-2013')\n",
        "\n",
        "\n",
        "Int2014_2016 = ee.Image('UQ/murray/Intertidal/v1_1/global_intertidal/2014-2016')\n",
        "\n",
        "aoi =ee.FeatureCollection(aoi).geometry()\n",
        "visualization = {\n",
        "  'bands': ['classification'],\n",
        "  'min': 0.0,\n",
        "  'max': 1.0,\n",
        "  'palette': ['0000FF']\n",
        "}\n",
        "\n",
        "#Open Modis NDVI data\n",
        "dataset = ee.ImageCollection('MODIS/006/MYD13A1') \\\n",
        "                  .filter(ee.Filter.date('2020-01-01', '2020-12-31'))\n",
        "ndvi = dataset.select('NDVI')\n",
        "\n",
        "mean_ndvi = ndvi.reduce(ee.Reducer.mean(), (6)).clip(aoi)\n",
        "\n",
        "\n",
        "ndviVis = {\n",
        "  'min': 0.0,\n",
        "  'max': 9000.0,\n",
        "  'palette': [\n",
        "    'FFFFFF', 'CE7E45', 'DF923D', 'F1B555', 'FCD163', '99B718', '74A901',\n",
        "    '66A000', '529400', '3E8601', '207401', '056201', '004C00', '023B01',\n",
        "    '012E01', '011D01', '011301'\n",
        "  ],\n",
        "}\n",
        "\n",
        "Map.addLayer(mean_ndvi, ndviVis, 'NDVI')\n",
        "print(ndvi)\n",
        "\n",
        "\n",
        "\n",
        "print(dataset)\n",
        "Map.addLayer(Int2014_2016.clip(aoi), visualization, 'Intertidal areas14-16')\n",
        "Map.addLayer(Int2011_2013.clip(aoi), visualization, 'Intertidal areas11-13')\n",
        "Map.addLayer(Int2002_2004.clip(aoi), visualization, 'Intertidal areas02-04')\n",
        "\n",
        "\n",
        "Export.image.toDrive({\n",
        "  'image' : Int2002_2004.clip(aoi),\n",
        "  'description': 'Intertidal_areas2002-04',\n",
        "  'maxPixels': 3784216672400,\n",
        "  'region' : aoi})\n",
        "\n",
        "Export.image.toDrive({\n",
        "  'image' : Int2011_2013.clip(aoi),\n",
        "  'description': 'Intertidal_areas2011-13',\n",
        "  'maxPixels': 3784216672400,\n",
        "  'region' : aoi})\n",
        "\n",
        "\n",
        "Export.image.toDrive({\n",
        "  'image' : Int2014_2016.clip(aoi),\n",
        "  'description': 'Intertidal_areas2014-16',\n",
        "  'maxPixels': 3784216672400,\n",
        "  'region' : aoi})\n",
        "\n",
        "\n",
        "Export.image.toDrive({\n",
        "  'image' : mean_ndvi,\n",
        "  'description': 'ndvi_mean_woi',\n",
        "  'maxPixels': 3784216672400,\n",
        "  'region' : aoi})\n"
      ],
      "outputs": [],
      "execution_count": null
    },
    {
      "cell_type": "markdown",
      "metadata": {},
      "source": [
        "## Display the interactive map"
      ]
    },
    {
      "cell_type": "code",
      "metadata": {},
      "source": [
        "Map"
      ],
      "outputs": [],
      "execution_count": null
    }
  ],
  "metadata": {
    "anaconda-cloud": {},
    "kernelspec": {
      "display_name": "Python 3",
      "language": "python",
      "name": "python3"
    },
    "language_info": {
      "codemirror_mode": {
        "name": "ipython",
        "version": 3
      },
      "file_extension": ".py",
      "mimetype": "text/x-python",
      "name": "python",
      "nbconvert_exporter": "python",
      "pygments_lexer": "ipython3",
      "version": "3.6.1"
    }
  },
  "nbformat": 4,
  "nbformat_minor": 4
}