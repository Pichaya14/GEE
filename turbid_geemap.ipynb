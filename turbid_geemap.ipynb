{
  "cells": [
    {
      "cell_type": "markdown",
      "metadata": {},
      "source": [
        "## Import libraries"
      ]
    },
    {
      "cell_type": "code",
      "metadata": {},
      "source": [
        "import ee\n",
        "import geemap"
      ],
      "outputs": [],
      "execution_count": null
    },
    {
      "cell_type": "markdown",
      "metadata": {},
      "source": [
        "## Create an interactive map"
      ]
    },
    {
      "cell_type": "code",
      "metadata": {},
      "source": [
        "Map = geemap.Map(center=[40, -100], zoom=4)"
      ],
      "outputs": [],
      "execution_count": null
    },
    {
      "cell_type": "markdown",
      "metadata": {},
      "source": [
        "## Add Earth Engine Python script"
      ]
    },
    {
      "cell_type": "code",
      "metadata": {},
      "source": [
        "# Add Earth Engine dataset\n",
        "image = ee.Image(\"USGS/SRTMGL1_003\")\n",
        "#*** Start of imports. If edited, may not auto-convert in the playground. ***#\n",
        "AOI =\n",
        "\n",
        "    # shown: False #\n",
        "    # displayProperties: [\n",
        "      {\n",
        "        \"type\": \"rectangle\"\n",
        "      }\n",
        "    ] #\n",
        "    ee.Geometry.Polygon(\n",
        "        [[[-10.80595281780066, 25.762158839740746],\n",
        "          [-10.80595281780066, -58.46965295691649],\n",
        "          [100.99092218219934, -58.46965295691649],\n",
        "          [100.99092218219934, 25.762158839740746]]], None, False)\n",
        "#**** End of imports. If edited, may not auto-convert in the playground. ****#\n",
        "dataset = ee.ImageCollection('COPERNICUS/S3/OLCI') \\\n",
        "                  .filterDate('2019-06-01', '2019-06-04')\n",
        "\n",
        "roi = ee.FeatureCollection(AOI). geometry()\n",
        "# Select bands for visualization and apply band-specific scale factors.\n",
        "rgb = dataset.select(['Oa05_radiance']) \\\n",
        "              .median().clip(roi) \\\n",
        "              .multiply(ee.Image([0.0100953]))\n",
        "\n",
        "visParams = {\n",
        "  'min': 0,\n",
        "  'max': 6,\n",
        "  'gamma': 1.5,\n",
        "}\n",
        "\n",
        "Map.setCenter(46.043, 1.45, 5)\n",
        "Map.addLayer(rgb, visParams, 'RGB')"
      ],
      "outputs": [],
      "execution_count": null
    },
    {
      "cell_type": "markdown",
      "metadata": {},
      "source": [
        "## Display the interactive map"
      ]
    },
    {
      "cell_type": "code",
      "metadata": {},
      "source": [
        "Map"
      ],
      "outputs": [],
      "execution_count": null
    }
  ],
  "metadata": {
    "anaconda-cloud": {},
    "kernelspec": {
      "display_name": "Python 3",
      "language": "python",
      "name": "python3"
    },
    "language_info": {
      "codemirror_mode": {
        "name": "ipython",
        "version": 3
      },
      "file_extension": ".py",
      "mimetype": "text/x-python",
      "name": "python",
      "nbconvert_exporter": "python",
      "pygments_lexer": "ipython3",
      "version": "3.6.1"
    }
  },
  "nbformat": 4,
  "nbformat_minor": 4
}