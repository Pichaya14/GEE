{
  "cells": [
    {
      "cell_type": "markdown",
      "metadata": {},
      "source": [
        "## Import libraries"
      ]
    },
    {
      "cell_type": "code",
      "metadata": {},
      "source": [
        "import ee\n",
        "import geemap"
      ],
      "outputs": [],
      "execution_count": null
    },
    {
      "cell_type": "markdown",
      "metadata": {},
      "source": [
        "## Create an interactive map"
      ]
    },
    {
      "cell_type": "code",
      "metadata": {},
      "source": [
        "Map = geemap.Map(center=[40, -100], zoom=4)"
      ],
      "outputs": [],
      "execution_count": null
    },
    {
      "cell_type": "markdown",
      "metadata": {},
      "source": [
        "## Add Earth Engine Python script"
      ]
    },
    {
      "cell_type": "code",
      "metadata": {},
      "source": [
        "# Add Earth Engine dataset\n",
        "image = ee.Image(\"USGS/SRTMGL1_003\")\n",
        "# Import the Landsat 8 TOA image collection.\n",
        "l8 = ee.ImageCollection('LANDSAT/LC08/C01/T1_TOA')\n",
        "\n",
        "# Get the least cloudy image in 2015.\n",
        "image = ee.Image(\n",
        "  l8.filterBounds() \\\n",
        "    .filterDate('2015-01-01', '2015-12-31') \\\n",
        "    .sort('CLOUD_COVER') \\\n",
        "    .first()\n",
        ")\n",
        "\n",
        "# Compute the Normalized Difference Vegetation Index (NDVI).\n",
        "nir = image.select('B5')\n",
        "red = image.select('B4')\n",
        "ndvi = nir.subtract(red).divide(nir.add(red)).rename('NDVI')\n",
        "\n",
        "# Display the result.\n",
        "Map.centerObject(image, 9)\n",
        "ndviParams = {'min': -1, 'max': 1, 'palette': ['blue', 'white', 'green']}\n",
        "Map.addLayer(ndvi, ndviParams, 'NDVI image')\n",
        "\n",
        "def addNDVI(image):\n",
        "  ndvi = image.normalizedDifference(['B5', 'B4']).rename('NDVI')\n",
        "  return image.addBands(ndvi)\n",
        "\n",
        "\n",
        "# Test the addNDVI function on a single image.\n",
        "ndvi = addNDVI(image).select('NDVI')\n"
      ],
      "outputs": [],
      "execution_count": null
    },
    {
      "cell_type": "markdown",
      "metadata": {},
      "source": [
        "## Display the interactive map"
      ]
    },
    {
      "cell_type": "code",
      "metadata": {},
      "source": [
        "Map"
      ],
      "outputs": [],
      "execution_count": null
    }
  ],
  "metadata": {
    "anaconda-cloud": {},
    "kernelspec": {
      "display_name": "Python 3",
      "language": "python",
      "name": "python3"
    },
    "language_info": {
      "codemirror_mode": {
        "name": "ipython",
        "version": 3
      },
      "file_extension": ".py",
      "mimetype": "text/x-python",
      "name": "python",
      "nbconvert_exporter": "python",
      "pygments_lexer": "ipython3",
      "version": "3.6.1"
    }
  },
  "nbformat": 4,
  "nbformat_minor": 4
}