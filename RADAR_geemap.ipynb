{
  "cells": [
    {
      "cell_type": "markdown",
      "metadata": {},
      "source": [
        "## Import libraries"
      ]
    },
    {
      "cell_type": "code",
      "metadata": {},
      "source": [
        "import ee\n",
        "import geemap"
      ],
      "outputs": [],
      "execution_count": null
    },
    {
      "cell_type": "markdown",
      "metadata": {},
      "source": [
        "## Create an interactive map"
      ]
    },
    {
      "cell_type": "code",
      "metadata": {},
      "source": [
        "Map = geemap.Map(center=[40, -100], zoom=4)"
      ],
      "outputs": [],
      "execution_count": null
    },
    {
      "cell_type": "markdown",
      "metadata": {},
      "source": [
        "## Add Earth Engine Python script"
      ]
    },
    {
      "cell_type": "code",
      "metadata": {},
      "source": [
        "# Add Earth Engine dataset\n",
        "image = ee.Image(\"USGS/SRTMGL1_003\")\n",
        "#*** Start of imports. If edited, may not auto-convert in the playground. ***#\n",
        "AOI =\n",
        "\n",
        "    # shown: False #\n",
        "    # displayProperties: [\n",
        "      {\n",
        "        \"type\": \"rectangle\"\n",
        "      },\n",
        "      {\n",
        "        \"type\": \"rectangle\"\n",
        "      }\n",
        "    ] #\n",
        "    ee.Geometry.MultiPolygon(\n",
        "        [[[[3.106980421385961, 23.022987400889438],\n",
        "           [3.106980421385961, -51.76520991741075],\n",
        "           [81.15385542138596, -51.76520991741075],\n",
        "           [81.15385542138596, 23.022987400889438]]],\n",
        "         [[[18.57573042138596, 36.97133334830778],\n",
        "           [18.57573042138596, 36.97133334830778],\n",
        "           [18.57573042138596, 36.97133334830778],\n",
        "           [18.57573042138596, 36.97133334830778]]]], None, False)\n",
        "#**** End of imports. If edited, may not auto-convert in the playground. ****#\n",
        "imgVV = ee.ImageCollection('COPERNICUS/S1_GRD') \\\n",
        "        .filter(ee.Filter.listContains('transmitterReceiverPolarisation', 'VV')) \\\n",
        "        .filter(ee.Filter.eq('instrumentMode', 'IW')) \\\n",
        "        .select('VV')\n",
        "\n",
        "def func_lrc(image):\n",
        "          edge = image.lt(-30.0)\n",
        "          maskedImage = image.mask().And(edge.Not())\n",
        "          return image.updateMask(maskedImage) \\\n",
        "        .map(func_lrc)\n",
        "\n",
        "\n",
        "\n",
        "\n",
        "\n",
        "\n",
        "desc = imgVV.filter(ee.Filter.eq('orbitProperties_pass', 'DESCENDING'))\n",
        "asc = imgVV.filter(ee.Filter.eq('orbitProperties_pass', 'ASCENDING'))\n",
        "\n",
        "spring = ee.Filter.date('2015-03-01', '2020-04-20')\n",
        "lateSpring = ee.Filter.date('2015-04-21', '2020-06-10')\n",
        "summer = ee.Filter.date('2015-06-11', '2020-08-31')\n",
        "\n",
        "descChange = ee.Image.cat(\n",
        "        desc.filter(spring).mean(),\n",
        "        desc.filter(lateSpring).mean(),\n",
        "        desc.filter(summer).mean())\n",
        "\n",
        "ascChange = ee.Image.cat(\n",
        "        asc.filter(spring).mean(),\n",
        "        asc.filter(lateSpring).mean(),\n",
        "        asc.filter(summer).mean())\n",
        "\n",
        "\n",
        "Map.addLayer(ascChange, {'min': -25, 'max': 5}, 'Multi-T Mean ASC', True)\n",
        "Map.addLayer(descChange, {'min': -25, 'max': 5}, 'Multi-T Mean DESC', True)"
      ],
      "outputs": [],
      "execution_count": null
    },
    {
      "cell_type": "markdown",
      "metadata": {},
      "source": [
        "## Display the interactive map"
      ]
    },
    {
      "cell_type": "code",
      "metadata": {},
      "source": [
        "Map"
      ],
      "outputs": [],
      "execution_count": null
    }
  ],
  "metadata": {
    "anaconda-cloud": {},
    "kernelspec": {
      "display_name": "Python 3",
      "language": "python",
      "name": "python3"
    },
    "language_info": {
      "codemirror_mode": {
        "name": "ipython",
        "version": 3
      },
      "file_extension": ".py",
      "mimetype": "text/x-python",
      "name": "python",
      "nbconvert_exporter": "python",
      "pygments_lexer": "ipython3",
      "version": "3.6.1"
    }
  },
  "nbformat": 4,
  "nbformat_minor": 4
}