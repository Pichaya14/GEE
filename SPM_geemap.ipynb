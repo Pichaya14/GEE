{
  "cells": [
    {
      "cell_type": "markdown",
      "metadata": {},
      "source": [
        "## Import libraries"
      ]
    },
    {
      "cell_type": "code",
      "metadata": {},
      "source": [
        "import ee\n",
        "import geemap"
      ],
      "outputs": [],
      "execution_count": null
    },
    {
      "cell_type": "markdown",
      "metadata": {},
      "source": [
        "## Create an interactive map"
      ]
    },
    {
      "cell_type": "code",
      "metadata": {},
      "source": [
        "Map = geemap.Map(center=[40, -100], zoom=4)"
      ],
      "outputs": [],
      "execution_count": null
    },
    {
      "cell_type": "markdown",
      "metadata": {},
      "source": [
        "## Add Earth Engine Python script"
      ]
    },
    {
      "cell_type": "code",
      "metadata": {},
      "source": [
        "# Add Earth Engine dataset\n",
        "image = ee.Image(\"USGS/SRTMGL1_003\")\n",
        "#*** Start of imports. If edited, may not auto-convert in the playground. ***#\n",
        "aoi =\n",
        "\n",
        "    # displayProperties: [\n",
        "      {\n",
        "        \"type\": \"rectangle\"\n",
        "      }\n",
        "    ] #\n",
        "    ee.Geometry.Polygon(\n",
        "        [[[-6.78915625000001, 23.328454152970004],\n",
        "          [-6.78915625000001, -47.92641519630721],\n",
        "          [79.34365624999998, -47.92641519630721],\n",
        "          [79.34365624999998, 23.328454152970004]]], None, False)\n",
        "#**** End of imports. If edited, may not auto-convert in the playground. ****#\n",
        "\n",
        "# A function to mask out pixels that did not have observations.\n",
        "def maskEmptyPixels(image):\n",
        "  # Find pixels that had observations.\n",
        "  withObs = image.select('num_observations_1km').gt(0)\n",
        "  return image.updateMask(withObs)\n",
        "\n",
        "\n",
        "# A function to mask out cloudy pixels.\n",
        "def maskClouds(image):\n",
        "  # Select the QA band.\n",
        "  QA = image.select('state_1km')\n",
        "  # Make a mask to get bit 10, the internal_cloud_algorithm_flag bit.\n",
        "  bitMask = 1 << 10\n",
        "  # Return an image masking out cloudy areas.\n",
        "  return image.updateMask(QA.bitwiseAnd(bitMask).eq(0))\n",
        "\n",
        "\n",
        "# Start with an image collection for a 1 month period.\n",
        "# and mask out areas that were not observed.\n",
        "collection = ee.ImageCollection('MODIS/006/MOD09GA') \\\n",
        "        .filterDate('2020-01-01', '2021-12-31') \\\n",
        "        .map(maskEmptyPixels)\n",
        "\n",
        "# Get the total number of potential observations for the time interval.\n",
        "totalObsCount = collection \\\n",
        "        .select('num_observations_1km') \\\n",
        "        .count()\n",
        "\n",
        "# Map the cloud masking function over the collection.\n",
        "collectionCloudMasked = collection.map(maskClouds)\n",
        "print (collectionCloudMasked)\n",
        "# Get the total number of observations for non-cloudy pixels for the time\n",
        "# interval.  The result is unmasked to set to unity so that all locations\n",
        "# have counts, and the ratios later computed have values everywhere.\n",
        "clearObsCount = collectionCloudMasked \\\n",
        "        .select('num_observations_1km') \\\n",
        "        .count() \\\n",
        "        .unmask(0)\n",
        "roi = ee.FeatureCollection(aoi).geometry()\n",
        "modis_b1 = collectionCloudMasked.select('sur_refl_b01')\n",
        "Band1 = modis_b1.reduce(ee.Reducer.median(), (14)).clip(roi)\n",
        "print(modis_b1)\n",
        "print(Band1)\n",
        "#Applied turbidity measurement equation from http:#drr.ikcest.Org/static/upload/c2/c233934a-bbdb-11e8-b94f-00163e0618d6.pdf\n",
        "SPM = Band1.expression( '-1.91*(1140.25*(b1))/10000',\n",
        "   {'b1': Band1.select('sur_refl_b01_median'),})\n",
        "\n",
        "print(SPM)\n",
        "#Map.addLayer(\n",
        "   # collectionCloudMasked.median(),\n",
        "   # {bands: ['sur_refl_b01'],\n",
        "   #  gain: 0.07,\n",
        "    # gamma: 3\n",
        "    #},\n",
        "  #  'median of masked collection'\n",
        " # )\n",
        "\n",
        "Map.addLayer(SPM,\n",
        "    {'bands': ['constant'],\n",
        "     'gain': 1,\n",
        "     'gamma': 3\n",
        "    },\n",
        "    'Total suspended Matter (mg/l)'\n",
        "  )\n",
        "\n",
        "\n"
      ],
      "outputs": [],
      "execution_count": null
    },
    {
      "cell_type": "markdown",
      "metadata": {},
      "source": [
        "## Display the interactive map"
      ]
    },
    {
      "cell_type": "code",
      "metadata": {},
      "source": [
        "Map"
      ],
      "outputs": [],
      "execution_count": null
    }
  ],
  "metadata": {
    "anaconda-cloud": {},
    "kernelspec": {
      "display_name": "Python 3",
      "language": "python",
      "name": "python3"
    },
    "language_info": {
      "codemirror_mode": {
        "name": "ipython",
        "version": 3
      },
      "file_extension": ".py",
      "mimetype": "text/x-python",
      "name": "python",
      "nbconvert_exporter": "python",
      "pygments_lexer": "ipython3",
      "version": "3.6.1"
    }
  },
  "nbformat": 4,
  "nbformat_minor": 4
}