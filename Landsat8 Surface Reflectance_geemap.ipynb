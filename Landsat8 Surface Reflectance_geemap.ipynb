{
  "cells": [
    {
      "cell_type": "markdown",
      "metadata": {},
      "source": [
        "## Import libraries"
      ]
    },
    {
      "cell_type": "code",
      "metadata": {},
      "source": [
        "import ee\n",
        "import geemap"
      ],
      "outputs": [],
      "execution_count": null
    },
    {
      "cell_type": "markdown",
      "metadata": {},
      "source": [
        "## Create an interactive map"
      ]
    },
    {
      "cell_type": "code",
      "metadata": {},
      "source": [
        "Map = geemap.Map(center=[40, -100], zoom=4)"
      ],
      "outputs": [],
      "execution_count": null
    },
    {
      "cell_type": "markdown",
      "metadata": {},
      "source": [
        "## Add Earth Engine Python script"
      ]
    },
    {
      "cell_type": "code",
      "metadata": {},
      "source": [
        "# Add Earth Engine dataset\n",
        "image = ee.Image(\"USGS/SRTMGL1_003\")\n",
        "#*** Start of imports. If edited, may not auto-convert in the playground. ***#\n",
        "wio =\n",
        "\n",
        "    # displayProperties: [\n",
        "      {\n",
        "        \"type\": \"rectangle\"\n",
        "      }\n",
        "    ] #\n",
        "    ee.Geometry.Polygon(\n",
        "        [[[4.785883945950329, 17.739482729228445],\n",
        "          [4.785883945950329, -42.34944760379102],\n",
        "          [79.66869644595033, -42.34944760379102],\n",
        "          [79.66869644595033, 17.739482729228445]]], None, False)\n",
        "#**** End of imports. If edited, may not auto-convert in the playground. ****#\n",
        "# This example demonstrates the use of the Landsat 8 Collection 2, Level 2\n",
        "# QA_PIXEL band (CFMask) to mask unwanted pixels.\n",
        "\n",
        "def maskL8sr(image):\n",
        "  # Bit 0 - Fill\n",
        "  # Bit 1 - Dilated Cloud\n",
        "  # Bit 2 - Cirrus\n",
        "  # Bit 3 - Cloud\n",
        "  # Bit 4 - Cloud Shadow\n",
        "  qaMask = image.select('QA_PIXEL').bitwiseAnd(parseInt('11111', 2)).eq(0)\n",
        "  saturationMask = image.select('QA_RADSAT').eq(0)\n",
        "\n",
        "  # Apply the scaling factors to the appropriate bands.\n",
        "  opticalBands = image.select('SR_B.').multiply(0.0000275).add(-0.2)\n",
        "  thermalBands = image.select('ST_B.*').multiply(0.00341802).add(149.0)\n",
        "\n",
        "  # Replace the original bands with the scaled ones and apply the masks.\n",
        "  return image.addBands(opticalBands, None, True) \\\n",
        "      .addBands(thermalBands, None, True) \\\n",
        "      .updateMask(qaMask) \\\n",
        "      .updateMask(saturationMask)\n",
        "\n",
        "aoi=ee.feature(wio)\n",
        "# Map the function over one year of data.\n",
        "collection = ee.ImageCollection('LANDSAT/LC08/C02/T1_L2') \\\n",
        "                     .filterBound('geometry') \\\n",
        "                     .filterDate('2020-01-01', '2021-01-01') \\\n",
        "                     .map(maskL8sr)\n",
        "\n",
        "composite = collection.median()\n",
        "\n",
        "# Display the results.\n",
        "Map.setCenter(wio);  # wio\n",
        "Map.addLayer(composite, {'bands': ['SR_B4',  'SR_B3',  'SR_B2'], 'min': 0, 'max': 0.3})"
      ],
      "outputs": [],
      "execution_count": null
    },
    {
      "cell_type": "markdown",
      "metadata": {},
      "source": [
        "## Display the interactive map"
      ]
    },
    {
      "cell_type": "code",
      "metadata": {},
      "source": [
        "Map"
      ],
      "outputs": [],
      "execution_count": null
    }
  ],
  "metadata": {
    "anaconda-cloud": {},
    "kernelspec": {
      "display_name": "Python 3",
      "language": "python",
      "name": "python3"
    },
    "language_info": {
      "codemirror_mode": {
        "name": "ipython",
        "version": 3
      },
      "file_extension": ".py",
      "mimetype": "text/x-python",
      "name": "python",
      "nbconvert_exporter": "python",
      "pygments_lexer": "ipython3",
      "version": "3.6.1"
    }
  },
  "nbformat": 4,
  "nbformat_minor": 4
}