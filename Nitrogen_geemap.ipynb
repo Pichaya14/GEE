{
  "cells": [
    {
      "cell_type": "markdown",
      "metadata": {},
      "source": [
        "## Import libraries"
      ]
    },
    {
      "cell_type": "code",
      "metadata": {},
      "source": [
        "import ee\n",
        "import geemap"
      ],
      "outputs": [],
      "execution_count": null
    },
    {
      "cell_type": "markdown",
      "metadata": {},
      "source": [
        "## Create an interactive map"
      ]
    },
    {
      "cell_type": "code",
      "metadata": {},
      "source": [
        "Map = geemap.Map(center=[40, -100], zoom=4)"
      ],
      "outputs": [],
      "execution_count": null
    },
    {
      "cell_type": "markdown",
      "metadata": {},
      "source": [
        "## Add Earth Engine Python script"
      ]
    },
    {
      "cell_type": "code",
      "metadata": {},
      "source": [
        "# Add Earth Engine dataset\n",
        "image = ee.Image(\"USGS/SRTMGL1_003\")\n",
        "mean_0_20 =\n",
        "'<RasterSymbolizer>' + \\\n",
        " '<ColorMap type=\"ramp\">' + \\\n",
        "  '<ColorMapEntry color=\"#000004\" label=\"0-0.2\" opacity=\"1\" quantity=\"20\"/>' + \\\n",
        "  '<ColorMapEntry color=\"#0C0927\" label=\"0.2-0.3\" opacity=\"1\" quantity=\"30\"/>' + \\\n",
        "  '<ColorMapEntry color=\"#231151\" label=\"0.3-0.4\" opacity=\"1\" quantity=\"36\"/>' + \\\n",
        "  '<ColorMapEntry color=\"#410F75\" label=\"0.4-0.5\" opacity=\"1\" quantity=\"43\"/>' + \\\n",
        "  '<ColorMapEntry color=\"#5F187F\" label=\"0.5-0.6\" opacity=\"1\" quantity=\"48\"/>' + \\\n",
        "  '<ColorMapEntry color=\"#7B2382\" label=\"0.6-0.7\" opacity=\"1\" quantity=\"52\"/>' + \\\n",
        "  '<ColorMapEntry color=\"#982D80\" label=\"0.7-0.8\" opacity=\"1\" quantity=\"58\"/>' + \\\n",
        "  '<ColorMapEntry color=\"#B63679\" label=\"0.8-0.9\" opacity=\"1\" quantity=\"64\"/>' + \\\n",
        "  '<ColorMapEntry color=\"#D3436E\" label=\"0.9-1\" opacity=\"1\" quantity=\"67\"/>' + \\\n",
        "  '<ColorMapEntry color=\"#EB5760\" label=\"1-1.1\" opacity=\"1\" quantity=\"75\"/>' + \\\n",
        "  '<ColorMapEntry color=\"#F8765C\" label=\"1.1-1.2\" opacity=\"1\" quantity=\"79\"/>' + \\\n",
        "  '<ColorMapEntry color=\"#FD9969\" label=\"1.2-1.3\" opacity=\"1\" quantity=\"83\"/>' + \\\n",
        "  '<ColorMapEntry color=\"#FEBA80\" label=\"1.3-1.4\" opacity=\"1\" quantity=\"89\"/>' + \\\n",
        "  '<ColorMapEntry color=\"#FDDC9E\" label=\"1.4-1.5\" opacity=\"1\" quantity=\"93\"/>' + \\\n",
        "  '<ColorMapEntry color=\"#FCFDBF\" label=\"1.5-10\" opacity=\"1\" quantity=\"99\"/>' + \\\n",
        " '</ColorMap>' + \\\n",
        " '<ContrastEnhancement/>' + \\\n",
        "'</RasterSymbolizer>'\n",
        "\n",
        "mean_20_50 =\n",
        "'<RasterSymbolizer>' + \\\n",
        " '<ColorMap type=\"ramp\">' + \\\n",
        "  '<ColorMapEntry color=\"#000004\" label=\"0-0.2\" opacity=\"1\" quantity=\"20\"/>' + \\\n",
        "  '<ColorMapEntry color=\"#0C0927\" label=\"0.2-0.3\" opacity=\"1\" quantity=\"30\"/>' + \\\n",
        "  '<ColorMapEntry color=\"#231151\" label=\"0.3-0.4\" opacity=\"1\" quantity=\"36\"/>' + \\\n",
        "  '<ColorMapEntry color=\"#410F75\" label=\"0.4-0.5\" opacity=\"1\" quantity=\"43\"/>' + \\\n",
        "  '<ColorMapEntry color=\"#5F187F\" label=\"0.5-0.6\" opacity=\"1\" quantity=\"48\"/>' + \\\n",
        "  '<ColorMapEntry color=\"#7B2382\" label=\"0.6-0.7\" opacity=\"1\" quantity=\"52\"/>' + \\\n",
        "  '<ColorMapEntry color=\"#982D80\" label=\"0.7-0.8\" opacity=\"1\" quantity=\"58\"/>' + \\\n",
        "  '<ColorMapEntry color=\"#B63679\" label=\"0.8-0.9\" opacity=\"1\" quantity=\"64\"/>' + \\\n",
        "  '<ColorMapEntry color=\"#D3436E\" label=\"0.9-1\" opacity=\"1\" quantity=\"67\"/>' + \\\n",
        "  '<ColorMapEntry color=\"#EB5760\" label=\"1-1.1\" opacity=\"1\" quantity=\"75\"/>' + \\\n",
        "  '<ColorMapEntry color=\"#F8765C\" label=\"1.1-1.2\" opacity=\"1\" quantity=\"79\"/>' + \\\n",
        "  '<ColorMapEntry color=\"#FD9969\" label=\"1.2-1.3\" opacity=\"1\" quantity=\"83\"/>' + \\\n",
        "  '<ColorMapEntry color=\"#FEBA80\" label=\"1.3-1.4\" opacity=\"1\" quantity=\"89\"/>' + \\\n",
        "  '<ColorMapEntry color=\"#FDDC9E\" label=\"1.4-1.5\" opacity=\"1\" quantity=\"93\"/>' + \\\n",
        "  '<ColorMapEntry color=\"#FCFDBF\" label=\"1.5-10\" opacity=\"1\" quantity=\"99\"/>' + \\\n",
        " '</ColorMap>' + \\\n",
        " '<ContrastEnhancement/>' + \\\n",
        "'</RasterSymbolizer>'\n",
        "\n",
        "stdev_0_20 =\n",
        "'<RasterSymbolizer>' + \\\n",
        " '<ColorMap type=\"ramp\">' + \\\n",
        "  '<ColorMapEntry color=\"#fde725\" label=\"low\" opacity=\"1\" quantity=\"1\"/>' + \\\n",
        "  '<ColorMapEntry color=\"#5dc962\" label=\" \" opacity=\"1\" quantity=\"8\"/>' + \\\n",
        "  '<ColorMapEntry color=\"#20908d\" label=\" \" opacity=\"1\" quantity=\"10\"/>' + \\\n",
        "  '<ColorMapEntry color=\"#3a528b\" label=\" \" opacity=\"1\" quantity=\"14\"/>' + \\\n",
        "  '<ColorMapEntry color=\"#440154\" label=\"high\" opacity=\"1\" quantity=\"60\"/>' + \\\n",
        " '</ColorMap>' + \\\n",
        " '<ContrastEnhancement/>' + \\\n",
        "'</RasterSymbolizer>'\n",
        "\n",
        "stdev_20_50 =\n",
        "'<RasterSymbolizer>' + \\\n",
        " '<ColorMap type=\"ramp\">' + \\\n",
        "  '<ColorMapEntry color=\"#fde725\" label=\"low\" opacity=\"1\" quantity=\"1\"/>' + \\\n",
        "  '<ColorMapEntry color=\"#5dc962\" label=\" \" opacity=\"1\" quantity=\"8\"/>' + \\\n",
        "  '<ColorMapEntry color=\"#20908d\" label=\" \" opacity=\"1\" quantity=\"10\"/>' + \\\n",
        "  '<ColorMapEntry color=\"#3a528b\" label=\" \" opacity=\"1\" quantity=\"14\"/>' + \\\n",
        "  '<ColorMapEntry color=\"#440154\" label=\"high\" opacity=\"1\" quantity=\"60\"/>' + \\\n",
        " '</ColorMap>' + \\\n",
        " '<ContrastEnhancement/>' + \\\n",
        "'</RasterSymbolizer>'\n",
        "\n",
        "raw = ee.Image(\"ISDASOIL/Africa/v1/nitrogen_total\")\n",
        "Map.addLayer(\n",
        "    raw.select(0).sldStyle(mean_0_20), {},\n",
        "    \"Nitrogen, total, mean visualization, 0-20 cm\")\n",
        "Map.addLayer(\n",
        "    raw.select(1).sldStyle(mean_20_50), {},\n",
        "    \"Nitrogen, total, mean visualization, 20-50 cm\")\n",
        "Map.addLayer(\n",
        "    raw.select(2).sldStyle(stdev_0_20), {},\n",
        "    \"Nitrogen, total, stdev visualization, 0-20 cm\")\n",
        "Map.addLayer(\n",
        "    raw.select(3).sldStyle(stdev_20_50), {},\n",
        "    \"Nitrogen, total, stdev visualization, 20-50 cm\")\n",
        "\n",
        "converted = raw.divide(100).exp().subtract(1)\n",
        "\n",
        "visualization = {'min': 0, 'max': 10000}\n",
        "\n",
        "Map.setCenter(25, -3, 2)\n",
        "\n",
        "Map.addLayer(raw.select(2), visualization, \"Nitrogen, total, mean, 0-20 cm\")\n",
        "\n",
        "Export.image.toDrive({\n",
        "  'image' : raw.select(2),\n",
        "  'description': 'total_mean_nitrogen1',\n",
        "  'maxPixels': 3784216672400,\n",
        "  })"
      ],
      "outputs": [],
      "execution_count": null
    },
    {
      "cell_type": "markdown",
      "metadata": {},
      "source": [
        "## Display the interactive map"
      ]
    },
    {
      "cell_type": "code",
      "metadata": {},
      "source": [
        "Map"
      ],
      "outputs": [],
      "execution_count": null
    }
  ],
  "metadata": {
    "anaconda-cloud": {},
    "kernelspec": {
      "display_name": "Python 3",
      "language": "python",
      "name": "python3"
    },
    "language_info": {
      "codemirror_mode": {
        "name": "ipython",
        "version": 3
      },
      "file_extension": ".py",
      "mimetype": "text/x-python",
      "name": "python",
      "nbconvert_exporter": "python",
      "pygments_lexer": "ipython3",
      "version": "3.6.1"
    }
  },
  "nbformat": 4,
  "nbformat_minor": 4
}