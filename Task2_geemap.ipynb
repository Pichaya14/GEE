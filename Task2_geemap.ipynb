{
  "cells": [
    {
      "cell_type": "markdown",
      "metadata": {},
      "source": [
        "## Import libraries"
      ]
    },
    {
      "cell_type": "code",
      "metadata": {},
      "source": [
        "import ee\n",
        "import geemap"
      ],
      "outputs": [],
      "execution_count": null
    },
    {
      "cell_type": "markdown",
      "metadata": {},
      "source": [
        "## Create an interactive map"
      ]
    },
    {
      "cell_type": "code",
      "metadata": {},
      "source": [
        "Map = geemap.Map(center=[40, -100], zoom=4)"
      ],
      "outputs": [],
      "execution_count": null
    },
    {
      "cell_type": "markdown",
      "metadata": {},
      "source": [
        "## Add Earth Engine Python script"
      ]
    },
    {
      "cell_type": "code",
      "metadata": {},
      "source": [
        "# Add Earth Engine dataset\n",
        "image = ee.Image(\"USGS/SRTMGL1_003\")\n",
        "#*** Start of imports. If edited, may not auto-convert in the playground. ***#\n",
        "ROI =\n",
        "\n",
        "    # displayProperties: [\n",
        "      {\n",
        "        \"type\": \"rectangle\"\n",
        "      }\n",
        "    ] #\n",
        "    ee.Geometry.Polygon(\n",
        "        [[[-3.084855508204458, 22.891885047810465],\n",
        "          [-3.084855508204458, -47.29840236248417],\n",
        "          [88.67295699179554, -47.29840236248417],\n",
        "          [88.67295699179554, 22.891885047810465]]], None, False)\n",
        "#**** End of imports. If edited, may not auto-convert in the playground. ****#\n",
        "dataset = ee.ImageCollection(\"JAXA/GCOM-C/L3/OCEAN/CHLA/V3\").clip(ROI) \\\n",
        "                .filterDate('2021-12-01', '2022-01-01') \\\n",
        "                .filter(ee.Filter.eq(\"SATELLITE_DIRECTION\", \"D\"))\n",
        "\n",
        "# Multiply with slope coefficient\n",
        "image = dataset.mean().multiply(0.0016).log10()\n",
        "\n",
        "vis = {\n",
        "  'bands': ['CHLA_AVE'],\n",
        "  'min': -2,\n",
        "  'max': 2,\n",
        "  'palette': [\n",
        "    '3500a8','0800ba','003fd6',\n",
        "    '00aca9','77f800','ff8800',\n",
        "    'b30000','920000','880000'\n",
        "  ]\n",
        "}\n",
        "\n",
        "Map.addLayer(image, vis, \"Chlorophyll-a concentration\")"
      ],
      "outputs": [],
      "execution_count": null
    },
    {
      "cell_type": "markdown",
      "metadata": {},
      "source": [
        "## Display the interactive map"
      ]
    },
    {
      "cell_type": "code",
      "metadata": {},
      "source": [
        "Map"
      ],
      "outputs": [],
      "execution_count": null
    }
  ],
  "metadata": {
    "anaconda-cloud": {},
    "kernelspec": {
      "display_name": "Python 3",
      "language": "python",
      "name": "python3"
    },
    "language_info": {
      "codemirror_mode": {
        "name": "ipython",
        "version": 3
      },
      "file_extension": ".py",
      "mimetype": "text/x-python",
      "name": "python",
      "nbconvert_exporter": "python",
      "pygments_lexer": "ipython3",
      "version": "3.6.1"
    }
  },
  "nbformat": 4,
  "nbformat_minor": 4
}