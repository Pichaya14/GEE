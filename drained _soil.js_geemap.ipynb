{
  "cells": [
    {
      "cell_type": "markdown",
      "metadata": {},
      "source": [
        "## Import libraries"
      ]
    },
    {
      "cell_type": "code",
      "metadata": {},
      "source": [
        "import ee\n",
        "import geemap"
      ],
      "outputs": [],
      "execution_count": null
    },
    {
      "cell_type": "markdown",
      "metadata": {},
      "source": [
        "## Create an interactive map"
      ]
    },
    {
      "cell_type": "code",
      "metadata": {},
      "source": [
        "Map = geemap.Map(center=[40, -100], zoom=4)"
      ],
      "outputs": [],
      "execution_count": null
    },
    {
      "cell_type": "markdown",
      "metadata": {},
      "source": [
        "## Add Earth Engine Python script"
      ]
    },
    {
      "cell_type": "code",
      "metadata": {},
      "source": [
        "# Add Earth Engine dataset\n",
        "image = ee.Image(\"USGS/SRTMGL1_003\")\n",
        "#*** Start of imports. If edited, may not auto-convert in the playground. ***#\n",
        "wio = ee.Image(\"users/PichayaMelody123/wiosymmarin\"),\n",
        "    roi =\n",
        "\n",
        "    # shown: False #\n",
        "    # displayProperties: [\n",
        "      {\n",
        "        \"type\": \"rectangle\"\n",
        "      }\n",
        "    ] #\n",
        "    ee.Geometry.Polygon(\n",
        "        [[[7.600390625000015, 16.357749805052997],\n",
        "          [7.600390625000015, -44.672032402835995],\n",
        "          [79.49492187500002, -44.672032402835995],\n",
        "          [79.49492187500002, 16.357749805052997]]], None, False)\n",
        "#**** End of imports. If edited, may not auto-convert in the playground. ****#\n",
        "wiosym = ee.Image('users/PichayaMelody123/wiosymmarin')\n",
        "Map.addLayer(wiosym)\n",
        "\n",
        "dataset = ee.ImageCollection(\"JAXA/GCOM-C/L3/OCEAN/CHLA/V1\") \\\n",
        "                .filterDate('2020-01-01', '2020-12-31') \\\n",
        "                .filter(ee.Filter.eq(\"SATELLITE_DIRECTION\", \"D\"))\n",
        "\n",
        "# Multiply with slope coefficient\n",
        "image = dataset.mean().multiply(0.0016)\n",
        "print(image)\n",
        "vis = {\n",
        "  'bands': ['CHLA_AVE'],\n",
        "  'min': -2,\n",
        "  'max': 2,\n",
        "  'palette': [\n",
        "    '3500a8','0800ba','003fd6',\n",
        "    '00aca9','77f800','ff8800',\n",
        "    'b30000','920000','880000'\n",
        "  ]\n",
        "}\n",
        "\n",
        "Map.addLayer(image.clip(roi), vis, \"Chlorophyll-a concentration\")\n",
        "\n",
        "Export.image.toDrive({\n",
        "  'image' : image.clip(roi),\n",
        "  'description': 'Chl_a',\n",
        "  'maxPixels': 3784216672400,\n",
        "  'region' : roi})"
      ],
      "outputs": [],
      "execution_count": null
    },
    {
      "cell_type": "markdown",
      "metadata": {},
      "source": [
        "## Display the interactive map"
      ]
    },
    {
      "cell_type": "code",
      "metadata": {},
      "source": [
        "Map"
      ],
      "outputs": [],
      "execution_count": null
    }
  ],
  "metadata": {
    "anaconda-cloud": {},
    "kernelspec": {
      "display_name": "Python 3",
      "language": "python",
      "name": "python3"
    },
    "language_info": {
      "codemirror_mode": {
        "name": "ipython",
        "version": 3
      },
      "file_extension": ".py",
      "mimetype": "text/x-python",
      "name": "python",
      "nbconvert_exporter": "python",
      "pygments_lexer": "ipython3",
      "version": "3.6.1"
    }
  },
  "nbformat": 4,
  "nbformat_minor": 4
}