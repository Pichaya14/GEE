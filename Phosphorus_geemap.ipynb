{
  "cells": [
    {
      "cell_type": "markdown",
      "metadata": {},
      "source": [
        "## Import libraries"
      ]
    },
    {
      "cell_type": "code",
      "metadata": {},
      "source": [
        "import ee\n",
        "import geemap"
      ],
      "outputs": [],
      "execution_count": null
    },
    {
      "cell_type": "markdown",
      "metadata": {},
      "source": [
        "## Create an interactive map"
      ]
    },
    {
      "cell_type": "code",
      "metadata": {},
      "source": [
        "Map = geemap.Map(center=[40, -100], zoom=4)"
      ],
      "outputs": [],
      "execution_count": null
    },
    {
      "cell_type": "markdown",
      "metadata": {},
      "source": [
        "## Add Earth Engine Python script"
      ]
    },
    {
      "cell_type": "code",
      "metadata": {},
      "source": [
        "# Add Earth Engine dataset\n",
        "image = ee.Image(\"USGS/SRTMGL1_003\")\n",
        "#*** Start of imports. If edited, may not auto-convert in the playground. ***#\n",
        "wio = ee.Image(\"users/PichayaMelody123/wiosymmarin\"),\n",
        "    roi =\n",
        "\n",
        "    # shown: False #\n",
        "    # displayProperties: [\n",
        "      {\n",
        "        \"type\": \"rectangle\"\n",
        "      }\n",
        "    ] #\n",
        "    ee.Geometry.Polygon(\n",
        "        [[[7.600390625000015, 16.357749805052997],\n",
        "          [7.600390625000015, -44.672032402835995],\n",
        "          [79.49492187500002, -44.672032402835995],\n",
        "          [79.49492187500002, 16.357749805052997]]], None, False),\n",
        "    imageVisParam = {\"opacity\":1,\"bands\":[\"wat\"],\"gamma\":1}\n",
        "#**** End of imports. If edited, may not auto-convert in the playground. ****#\n",
        "\n",
        "wiosym = ee.Image('users/PichayaMelody123/wiosymmarin')\n",
        "Map.addLayer(wiosym)\n",
        "\n",
        "\n",
        "mean_0_20 =\n",
        "'<RasterSymbolizer>' + \\\n",
        " '<ColorMap type=\"ramp\">' + \\\n",
        "  '<ColorMapEntry color=\"#0D0887\" label=\"0-2.7\" opacity=\"1\" quantity=\"13\"/>' + \\\n",
        "  '<ColorMapEntry color=\"#350498\" label=\"2.7-3\" opacity=\"1\" quantity=\"14\"/>' + \\\n",
        "  '<ColorMapEntry color=\"#5402A3\" label=\"3-3.5\" opacity=\"1\" quantity=\"15\"/>' + \\\n",
        "  '<ColorMapEntry color=\"#7000A8\" label=\"3.5-4\" opacity=\"1\" quantity=\"16\"/>' + \\\n",
        "  '<ColorMapEntry color=\"#8B0AA5\" label=\"4-4.5\" opacity=\"1\" quantity=\"17\"/>' + \\\n",
        "  '<ColorMapEntry color=\"#A31E9A\" label=\"4.5-5\" opacity=\"1\" quantity=\"18\"/>' + \\\n",
        "  '<ColorMapEntry color=\"#B93289\" label=\"5-5.7\" opacity=\"1\" quantity=\"19\"/>' + \\\n",
        "  '<ColorMapEntry color=\"#CC4678\" label=\"5.7-6.4\" opacity=\"1\" quantity=\"20\"/>' + \\\n",
        "  '<ColorMapEntry color=\"#DB5C68\" label=\"6.4-7.2\" opacity=\"1\" quantity=\"21\"/>' + \\\n",
        "  '<ColorMapEntry color=\"#E97158\" label=\"7.2-8\" opacity=\"1\" quantity=\"22\"/>' + \\\n",
        "  '<ColorMapEntry color=\"#F48849\" label=\"8-9\" opacity=\"1\" quantity=\"23\"/>' + \\\n",
        "  '<ColorMapEntry color=\"#FBA139\" label=\"9-10\" opacity=\"1\" quantity=\"24\"/>' + \\\n",
        "  '<ColorMapEntry color=\"#FEBC2A\" label=\"10-11.2\" opacity=\"1\" quantity=\"25\"/>' + \\\n",
        "  '<ColorMapEntry color=\"#FADA24\" label=\"11.2-12.5\" opacity=\"1\" quantity=\"26\"/>' + \\\n",
        "  '<ColorMapEntry color=\"#F0F921\" label=\"12.5-125\" opacity=\"1\" quantity=\"27\"/>' + \\\n",
        " '</ColorMap>' + \\\n",
        " '<ContrastEnhancement/>' + \\\n",
        "'</RasterSymbolizer>'\n",
        "\n",
        "mean_20_50 =\n",
        "'<RasterSymbolizer>' + \\\n",
        " '<ColorMap type=\"ramp\">' + \\\n",
        "  '<ColorMapEntry color=\"#0D0887\" label=\"0-2.7\" opacity=\"1\" quantity=\"13\"/>' + \\\n",
        "  '<ColorMapEntry color=\"#350498\" label=\"2.7-3\" opacity=\"1\" quantity=\"14\"/>' + \\\n",
        "  '<ColorMapEntry color=\"#5402A3\" label=\"3-3.5\" opacity=\"1\" quantity=\"15\"/>' + \\\n",
        "  '<ColorMapEntry color=\"#7000A8\" label=\"3.5-4\" opacity=\"1\" quantity=\"16\"/>' + \\\n",
        "  '<ColorMapEntry color=\"#8B0AA5\" label=\"4-4.5\" opacity=\"1\" quantity=\"17\"/>' + \\\n",
        "  '<ColorMapEntry color=\"#A31E9A\" label=\"4.5-5\" opacity=\"1\" quantity=\"18\"/>' + \\\n",
        "  '<ColorMapEntry color=\"#B93289\" label=\"5-5.7\" opacity=\"1\" quantity=\"19\"/>' + \\\n",
        "  '<ColorMapEntry color=\"#CC4678\" label=\"5.7-6.4\" opacity=\"1\" quantity=\"20\"/>' + \\\n",
        "  '<ColorMapEntry color=\"#DB5C68\" label=\"6.4-7.2\" opacity=\"1\" quantity=\"21\"/>' + \\\n",
        "  '<ColorMapEntry color=\"#E97158\" label=\"7.2-8\" opacity=\"1\" quantity=\"22\"/>' + \\\n",
        "  '<ColorMapEntry color=\"#F48849\" label=\"8-9\" opacity=\"1\" quantity=\"23\"/>' + \\\n",
        "  '<ColorMapEntry color=\"#FBA139\" label=\"9-10\" opacity=\"1\" quantity=\"24\"/>' + \\\n",
        "  '<ColorMapEntry color=\"#FEBC2A\" label=\"10-11.2\" opacity=\"1\" quantity=\"25\"/>' + \\\n",
        "  '<ColorMapEntry color=\"#FADA24\" label=\"11.2-12.5\" opacity=\"1\" quantity=\"26\"/>' + \\\n",
        "  '<ColorMapEntry color=\"#F0F921\" label=\"12.5-125\" opacity=\"1\" quantity=\"27\"/>' + \\\n",
        " '</ColorMap>' + \\\n",
        " '<ContrastEnhancement/>' + \\\n",
        "'</RasterSymbolizer>'\n",
        "\n",
        "stdev_0_20 =\n",
        "'<RasterSymbolizer>' + \\\n",
        " '<ColorMap type=\"ramp\">' + \\\n",
        "  '<ColorMapEntry color=\"#fde725\" label=\"low\" opacity=\"1\" quantity=\"1\"/>' + \\\n",
        "  '<ColorMapEntry color=\"#5dc962\" label=\" \" opacity=\"1\" quantity=\"2\"/>' + \\\n",
        "  '<ColorMapEntry color=\"#20908d\" label=\" \" opacity=\"1\" quantity=\"3\"/>' + \\\n",
        "  '<ColorMapEntry color=\"#3a528b\" label=\" \" opacity=\"1\" quantity=\"4\"/>' + \\\n",
        "  '<ColorMapEntry color=\"#440154\" label=\"high\" opacity=\"1\" quantity=\"5\"/>' + \\\n",
        " '</ColorMap>' + \\\n",
        " '<ContrastEnhancement/>' + \\\n",
        "'</RasterSymbolizer>'\n",
        "\n",
        "stdev_20_50 =\n",
        "'<RasterSymbolizer>' + \\\n",
        " '<ColorMap type=\"ramp\">' + \\\n",
        "  '<ColorMapEntry color=\"#fde725\" label=\"low\" opacity=\"1\" quantity=\"1\"/>' + \\\n",
        "  '<ColorMapEntry color=\"#5dc962\" label=\" \" opacity=\"1\" quantity=\"2\"/>' + \\\n",
        "  '<ColorMapEntry color=\"#20908d\" label=\" \" opacity=\"1\" quantity=\"3\"/>' + \\\n",
        "  '<ColorMapEntry color=\"#3a528b\" label=\" \" opacity=\"1\" quantity=\"4\"/>' + \\\n",
        "  '<ColorMapEntry color=\"#440154\" label=\"high\" opacity=\"1\" quantity=\"5\"/>' + \\\n",
        " '</ColorMap>' + \\\n",
        " '<ContrastEnhancement/>' + \\\n",
        "'</RasterSymbolizer>'\n",
        "\n",
        "raw = ee.Image(\"ISDASOIL/Africa/v1/phosphorus_extractable\")\n",
        "Map.addLayer(\n",
        "    raw.select(0).sldStyle(mean_0_20), {},\n",
        "    \"Phosphorus extractable, mean visualization, 0-20 cm\")\n",
        "Map.addLayer(\n",
        "    raw.select(1).sldStyle(mean_20_50), {},\n",
        "    \"Phosphorus extractable, mean visualization, 20-50 cm\")\n",
        "Map.addLayer(\n",
        "    raw.select(2).sldStyle(stdev_0_20), {},\n",
        "    \"Phosphorus extractable, stdev visualization, 0-20 cm\")\n",
        "Map.addLayer(\n",
        "    raw.select(3).sldStyle(stdev_20_50), {},\n",
        "    \"Phosphorus extractable, stdev visualization, 20-50 cm\")\n",
        "\n",
        "converted = raw.divide(10).exp().subtract(1)\n",
        "\n",
        "visualization = {'min': 0, 'max': 15}\n",
        "\n",
        "Map.setCenter(25, -3, 2)\n",
        "\n",
        "Map.addLayer(converted.select(0), visualization, \"Phosphorus extractable, mean, 0-20 cm\")\n",
        "\n",
        "\n",
        "Export.image.toDrive({\n",
        "  'image' : converted.select(0),\n",
        "  'description': 'mean_phosphorus',\n",
        "  'maxPixels': 3784216672400,\n",
        "  'region' : roi})"
      ],
      "outputs": [],
      "execution_count": null
    },
    {
      "cell_type": "markdown",
      "metadata": {},
      "source": [
        "## Display the interactive map"
      ]
    },
    {
      "cell_type": "code",
      "metadata": {},
      "source": [
        "Map"
      ],
      "outputs": [],
      "execution_count": null
    }
  ],
  "metadata": {
    "anaconda-cloud": {},
    "kernelspec": {
      "display_name": "Python 3",
      "language": "python",
      "name": "python3"
    },
    "language_info": {
      "codemirror_mode": {
        "name": "ipython",
        "version": 3
      },
      "file_extension": ".py",
      "mimetype": "text/x-python",
      "name": "python",
      "nbconvert_exporter": "python",
      "pygments_lexer": "ipython3",
      "version": "3.6.1"
    }
  },
  "nbformat": 4,
  "nbformat_minor": 4
}