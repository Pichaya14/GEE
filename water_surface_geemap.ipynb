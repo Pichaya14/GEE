{
  "cells": [
    {
      "cell_type": "markdown",
      "metadata": {},
      "source": [
        "## Import libraries"
      ]
    },
    {
      "cell_type": "code",
      "metadata": {},
      "source": [
        "import ee\n",
        "import geemap"
      ],
      "outputs": [],
      "execution_count": null
    },
    {
      "cell_type": "markdown",
      "metadata": {},
      "source": [
        "## Create an interactive map"
      ]
    },
    {
      "cell_type": "code",
      "metadata": {},
      "source": [
        "Map = geemap.Map(center=[40, -100], zoom=4)"
      ],
      "outputs": [],
      "execution_count": null
    },
    {
      "cell_type": "markdown",
      "metadata": {},
      "source": [
        "## Add Earth Engine Python script"
      ]
    },
    {
      "cell_type": "code",
      "metadata": {},
      "source": [
        "# Add Earth Engine dataset\n",
        "image = ee.Image(\"USGS/SRTMGL1_003\")\n",
        "#*** Start of imports. If edited, may not auto-convert in the playground. ***#\n",
        "wio = ee.Image(\"users/PichayaMelody123/wiosymmarin\"),\n",
        "    roi =\n",
        "\n",
        "    # displayProperties: [\n",
        "      {\n",
        "        \"type\": \"rectangle\"\n",
        "      }\n",
        "    ] #\n",
        "    ee.Geometry.Polygon(\n",
        "        [[[7.600390625000015, 16.357749805052997],\n",
        "          [7.600390625000015, -44.672032402835995],\n",
        "          [79.49492187500002, -44.672032402835995],\n",
        "          [79.49492187500002, 16.357749805052997]]], None, False)\n",
        "#**** End of imports. If edited, may not auto-convert in the playground. ****#\n",
        "\n",
        "wiosym = ee.Image('users/PichayaMelody123/wiosymmarin')\n",
        "Map.addLayer(wiosym)\n",
        "\n",
        "\n",
        "dataset = ee.Image('WORLDCLIM/V1/BIO')\n",
        "annualMeanTemperature = dataset.select('bio12').clip(roi)\n",
        "visParams = {\n",
        "  'min': -230.0,\n",
        "  'max': 300.0,\n",
        "  'palette': ['blue', 'purple', 'cyan', 'green', 'yellow', 'red'],\n",
        "}\n",
        "Map.setCenter(71.72, 52.48, 3.0)\n",
        "Map.addLayer(annualMeanTemperature, visParams, 'Annual rain perception')"
      ],
      "outputs": [],
      "execution_count": null
    },
    {
      "cell_type": "markdown",
      "metadata": {},
      "source": [
        "## Display the interactive map"
      ]
    },
    {
      "cell_type": "code",
      "metadata": {},
      "source": [
        "Map"
      ],
      "outputs": [],
      "execution_count": null
    }
  ],
  "metadata": {
    "anaconda-cloud": {},
    "kernelspec": {
      "display_name": "Python 3",
      "language": "python",
      "name": "python3"
    },
    "language_info": {
      "codemirror_mode": {
        "name": "ipython",
        "version": 3
      },
      "file_extension": ".py",
      "mimetype": "text/x-python",
      "name": "python",
      "nbconvert_exporter": "python",
      "pygments_lexer": "ipython3",
      "version": "3.6.1"
    }
  },
  "nbformat": 4,
  "nbformat_minor": 4
}