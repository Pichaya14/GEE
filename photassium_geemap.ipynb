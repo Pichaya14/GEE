{
  "cells": [
    {
      "cell_type": "markdown",
      "metadata": {},
      "source": [
        "## Import libraries"
      ]
    },
    {
      "cell_type": "code",
      "metadata": {},
      "source": [
        "import ee\n",
        "import geemap"
      ],
      "outputs": [],
      "execution_count": null
    },
    {
      "cell_type": "markdown",
      "metadata": {},
      "source": [
        "## Create an interactive map"
      ]
    },
    {
      "cell_type": "code",
      "metadata": {},
      "source": [
        "Map = geemap.Map(center=[40, -100], zoom=4)"
      ],
      "outputs": [],
      "execution_count": null
    },
    {
      "cell_type": "markdown",
      "metadata": {},
      "source": [
        "## Add Earth Engine Python script"
      ]
    },
    {
      "cell_type": "code",
      "metadata": {},
      "source": [
        "# Add Earth Engine dataset\n",
        "image = ee.Image(\"USGS/SRTMGL1_003\")\n",
        "mean_0_20 =\n",
        "'<RasterSymbolizer>' + \\\n",
        " '<ColorMap type=\"ramp\">' + \\\n",
        "  '<ColorMapEntry color=\"#0D0887\" label=\"0-32.1\" opacity=\"1\" quantity=\"35\"/>' + \\\n",
        "  '<ColorMapEntry color=\"#350498\" label=\"32.1-43.7\" opacity=\"1\" quantity=\"38\"/>' + \\\n",
        "  '<ColorMapEntry color=\"#5402A3\" label=\"43.7-48.4\" opacity=\"1\" quantity=\"39\"/>' + \\\n",
        "  '<ColorMapEntry color=\"#7000A8\" label=\"48.4-53.6\" opacity=\"1\" quantity=\"40\"/>' + \\\n",
        "  '<ColorMapEntry color=\"#8B0AA5\" label=\"53.6-59.3\" opacity=\"1\" quantity=\"41\"/>' + \\\n",
        "  '<ColorMapEntry color=\"#A31E9A\" label=\"59.3-65.7\" opacity=\"1\" quantity=\"42\"/>' + \\\n",
        "  '<ColorMapEntry color=\"#B93289\" label=\"65.7-72.7\" opacity=\"1\" quantity=\"43\"/>' + \\\n",
        "  '<ColorMapEntry color=\"#CC4678\" label=\"72.7-89\" opacity=\"1\" quantity=\"45\"/>' + \\\n",
        "  '<ColorMapEntry color=\"#DB5C68\" label=\"89-98.5\" opacity=\"1\" quantity=\"46\"/>' + \\\n",
        "  '<ColorMapEntry color=\"#E97158\" label=\"98.5-108.9\" opacity=\"1\" quantity=\"47\"/>' + \\\n",
        "  '<ColorMapEntry color=\"#F48849\" label=\"108.9-120.5\" opacity=\"1\" quantity=\"48\"/>' + \\\n",
        "  '<ColorMapEntry color=\"#FBA139\" label=\"120.5-133.3\" opacity=\"1\" quantity=\"49\"/>' + \\\n",
        "  '<ColorMapEntry color=\"#FEBC2A\" label=\"133.3-163\" opacity=\"1\" quantity=\"51\"/>' + \\\n",
        "  '<ColorMapEntry color=\"#FADA24\" label=\"163-199.3\" opacity=\"1\" quantity=\"53\"/>' + \\\n",
        "  '<ColorMapEntry color=\"#F0F921\" label=\"163-1200\" opacity=\"1\" quantity=\"55\"/>' + \\\n",
        " '</ColorMap>' + \\\n",
        " '<ContrastEnhancement/>' + \\\n",
        "'</RasterSymbolizer>'\n",
        "\n",
        "mean_20_50 =\n",
        "'<RasterSymbolizer>' + \\\n",
        " '<ColorMap type=\"ramp\">' + \\\n",
        "  '<ColorMapEntry color=\"#0D0887\" label=\"0-32.1\" opacity=\"1\" quantity=\"35\"/>' + \\\n",
        "  '<ColorMapEntry color=\"#350498\" label=\"32.1-43.7\" opacity=\"1\" quantity=\"38\"/>' + \\\n",
        "  '<ColorMapEntry color=\"#5402A3\" label=\"43.7-48.4\" opacity=\"1\" quantity=\"39\"/>' + \\\n",
        "  '<ColorMapEntry color=\"#7000A8\" label=\"48.4-53.6\" opacity=\"1\" quantity=\"40\"/>' + \\\n",
        "  '<ColorMapEntry color=\"#8B0AA5\" label=\"53.6-59.3\" opacity=\"1\" quantity=\"41\"/>' + \\\n",
        "  '<ColorMapEntry color=\"#A31E9A\" label=\"59.3-65.7\" opacity=\"1\" quantity=\"42\"/>' + \\\n",
        "  '<ColorMapEntry color=\"#B93289\" label=\"65.7-72.7\" opacity=\"1\" quantity=\"43\"/>' + \\\n",
        "  '<ColorMapEntry color=\"#CC4678\" label=\"72.7-89\" opacity=\"1\" quantity=\"45\"/>' + \\\n",
        "  '<ColorMapEntry color=\"#DB5C68\" label=\"89-98.5\" opacity=\"1\" quantity=\"46\"/>' + \\\n",
        "  '<ColorMapEntry color=\"#E97158\" label=\"98.5-108.9\" opacity=\"1\" quantity=\"47\"/>' + \\\n",
        "  '<ColorMapEntry color=\"#F48849\" label=\"108.9-120.5\" opacity=\"1\" quantity=\"48\"/>' + \\\n",
        "  '<ColorMapEntry color=\"#FBA139\" label=\"120.5-133.3\" opacity=\"1\" quantity=\"49\"/>' + \\\n",
        "  '<ColorMapEntry color=\"#FEBC2A\" label=\"133.3-163\" opacity=\"1\" quantity=\"51\"/>' + \\\n",
        "  '<ColorMapEntry color=\"#FADA24\" label=\"163-199.3\" opacity=\"1\" quantity=\"53\"/>' + \\\n",
        "  '<ColorMapEntry color=\"#F0F921\" label=\"163-1200\" opacity=\"1\" quantity=\"55\"/>' + \\\n",
        " '</ColorMap>' + \\\n",
        " '<ContrastEnhancement/>' + \\\n",
        "'</RasterSymbolizer>'\n",
        "\n",
        "stdev_0_20 =\n",
        "'<RasterSymbolizer>' + \\\n",
        " '<ColorMap type=\"ramp\">' + \\\n",
        "  '<ColorMapEntry color=\"#fde725\" label=\"low\" opacity=\"1\" quantity=\"1\"/>' + \\\n",
        "  '<ColorMapEntry color=\"#5dc962\" label=\" \" opacity=\"1\" quantity=\"2\"/>' + \\\n",
        "  '<ColorMapEntry color=\"#20908d\" label=\" \" opacity=\"1\" quantity=\"3\"/>' + \\\n",
        "  '<ColorMapEntry color=\"#3a528b\" label=\" \" opacity=\"1\" quantity=\"4\"/>' + \\\n",
        "  '<ColorMapEntry color=\"#440154\" label=\"high\" opacity=\"1\" quantity=\"5\"/>' + \\\n",
        " '</ColorMap>' + \\\n",
        " '<ContrastEnhancement/>' + \\\n",
        "'</RasterSymbolizer>'\n",
        "\n",
        "stdev_20_50 =\n",
        "'<RasterSymbolizer>' + \\\n",
        " '<ColorMap type=\"ramp\">' + \\\n",
        "  '<ColorMapEntry color=\"#fde725\" label=\"low\" opacity=\"1\" quantity=\"1\"/>' + \\\n",
        "  '<ColorMapEntry color=\"#5dc962\" label=\" \" opacity=\"1\" quantity=\"2\"/>' + \\\n",
        "  '<ColorMapEntry color=\"#20908d\" label=\" \" opacity=\"1\" quantity=\"3\"/>' + \\\n",
        "  '<ColorMapEntry color=\"#3a528b\" label=\" \" opacity=\"1\" quantity=\"4\"/>' + \\\n",
        "  '<ColorMapEntry color=\"#440154\" label=\"high\" opacity=\"1\" quantity=\"5\"/>' + \\\n",
        " '</ColorMap>' + \\\n",
        " '<ContrastEnhancement/>' + \\\n",
        "'</RasterSymbolizer>'\n",
        "\n",
        "raw = ee.Image(\"ISDASOIL/Africa/v1/potassium_extractable\")\n",
        "Map.addLayer(\n",
        "    raw.select(0).sldStyle(mean_0_20), {},\n",
        "    \"Potassium extractable, mean visualization, 0-20 cm\")\n",
        "Map.addLayer(\n",
        "    raw.select(1).sldStyle(mean_20_50), {},\n",
        "    \"Potassium extractable, mean visualization, 20-50 cm\")\n",
        "Map.addLayer(\n",
        "    raw.select(2).sldStyle(stdev_0_20), {},\n",
        "    \"Potassium extractable, stdev visualization, 0-20 cm\")\n",
        "Map.addLayer(\n",
        "    raw.select(3).sldStyle(stdev_20_50), {},\n",
        "    \"Potassium extractable, stdev visualization, 20-50 cm\")\n",
        "\n",
        "converted = raw.divide(10).exp().subtract(1)\n",
        "\n",
        "visualization = {'min': 0, 'max': 250}\n",
        "\n",
        "Map.setCenter(25, -3, 2)\n",
        "\n",
        "Map.addLayer(converted.select(0), visualization, \"Potassium extractable, mean, 0-20 cm\")\n",
        "\n",
        "\n",
        "Export.image.toDrive({\n",
        "  'image' : raw.select(2),\n",
        "  'description': 'mean_postassium',\n",
        "  'maxPixels': 3784216672400\n",
        "})"
      ],
      "outputs": [],
      "execution_count": null
    },
    {
      "cell_type": "markdown",
      "metadata": {},
      "source": [
        "## Display the interactive map"
      ]
    },
    {
      "cell_type": "code",
      "metadata": {},
      "source": [
        "Map"
      ],
      "outputs": [],
      "execution_count": null
    }
  ],
  "metadata": {
    "anaconda-cloud": {},
    "kernelspec": {
      "display_name": "Python 3",
      "language": "python",
      "name": "python3"
    },
    "language_info": {
      "codemirror_mode": {
        "name": "ipython",
        "version": 3
      },
      "file_extension": ".py",
      "mimetype": "text/x-python",
      "name": "python",
      "nbconvert_exporter": "python",
      "pygments_lexer": "ipython3",
      "version": "3.6.1"
    }
  },
  "nbformat": 4,
  "nbformat_minor": 4
}