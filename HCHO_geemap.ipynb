{
  "cells": [
    {
      "cell_type": "markdown",
      "metadata": {},
      "source": [
        "## Import libraries"
      ]
    },
    {
      "cell_type": "code",
      "metadata": {},
      "source": [
        "import ee\n",
        "import geemap"
      ],
      "outputs": [],
      "execution_count": null
    },
    {
      "cell_type": "markdown",
      "metadata": {},
      "source": [
        "## Create an interactive map"
      ]
    },
    {
      "cell_type": "code",
      "metadata": {},
      "source": [
        "Map = geemap.Map(center=[40, -100], zoom=4)"
      ],
      "outputs": [],
      "execution_count": null
    },
    {
      "cell_type": "markdown",
      "metadata": {},
      "source": [
        "## Add Earth Engine Python script"
      ]
    },
    {
      "cell_type": "code",
      "metadata": {},
      "source": [
        "# Add Earth Engine dataset\n",
        "image = ee.Image(\"USGS/SRTMGL1_003\")\n",
        "#*** Start of imports. If edited, may not auto-convert in the playground. ***#\n",
        "image = ee.Image(\"users/PichayaMelody123/wiosymmarin\"),\n",
        "    wiosym_roi =\n",
        "\n",
        "    # displayProperties: [\n",
        "      {\n",
        "        \"type\": \"rectangle\"\n",
        "      }\n",
        "    ] #\n",
        "    ee.Geometry.Polygon(\n",
        "        [[[7.3828125, 16.636191878397664],\n",
        "          [7.3828125, -40.979898069620134],\n",
        "          [79.1015625, -40.979898069620134],\n",
        "          [79.1015625, 16.636191878397664]]], None, False)\n",
        "#**** End of imports. If edited, may not auto-convert in the playground. ****#\n",
        "\n",
        "roi = ee.FeatureCollection(wiosym_roi).geometry\n",
        "\n",
        "\n",
        "collection = ee.ImageCollection('COPERNICUS/S5P/OFFL/L3_HCHO') \\\n",
        "  .select('tropospheric_HCHO_column_number_density') \\\n",
        "  .filterDate('2019-06-01', '2019-06-06')\n",
        "\n",
        "\n",
        "\n",
        "band_viz = {\n",
        "  'min': 0.0,\n",
        "  'max': 0.0003,\n",
        "  'palette': ['black', 'blue', 'purple', 'cyan', 'green', 'yellow', 'red']\n",
        "}\n",
        "\n",
        "Map.addLayer(collection.mean(), band_viz, 'S5P HCHO')\n",
        "Map.setCenter(0.0, 0.0, 2)\n",
        "\n",
        "\n",
        "Export.image.toDrive({\n",
        "  'image' : collection.mean().clip(roi),\n",
        "  'description': 'HCHO',\n",
        "  'maxPixels': 3784216672400,\n",
        "  'region' : roi})"
      ],
      "outputs": [],
      "execution_count": null
    },
    {
      "cell_type": "markdown",
      "metadata": {},
      "source": [
        "## Display the interactive map"
      ]
    },
    {
      "cell_type": "code",
      "metadata": {},
      "source": [
        "Map"
      ],
      "outputs": [],
      "execution_count": null
    }
  ],
  "metadata": {
    "anaconda-cloud": {},
    "kernelspec": {
      "display_name": "Python 3",
      "language": "python",
      "name": "python3"
    },
    "language_info": {
      "codemirror_mode": {
        "name": "ipython",
        "version": 3
      },
      "file_extension": ".py",
      "mimetype": "text/x-python",
      "name": "python",
      "nbconvert_exporter": "python",
      "pygments_lexer": "ipython3",
      "version": "3.6.1"
    }
  },
  "nbformat": 4,
  "nbformat_minor": 4
}