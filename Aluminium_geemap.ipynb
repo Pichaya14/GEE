{
  "cells": [
    {
      "cell_type": "markdown",
      "metadata": {},
      "source": [
        "## Import libraries"
      ]
    },
    {
      "cell_type": "code",
      "metadata": {},
      "source": [
        "import ee\n",
        "import geemap"
      ],
      "outputs": [],
      "execution_count": null
    },
    {
      "cell_type": "markdown",
      "metadata": {},
      "source": [
        "## Create an interactive map"
      ]
    },
    {
      "cell_type": "code",
      "metadata": {},
      "source": [
        "Map = geemap.Map(center=[40, -100], zoom=4)"
      ],
      "outputs": [],
      "execution_count": null
    },
    {
      "cell_type": "markdown",
      "metadata": {},
      "source": [
        "## Add Earth Engine Python script"
      ]
    },
    {
      "cell_type": "code",
      "metadata": {},
      "source": [
        "# Add Earth Engine dataset\n",
        "image = ee.Image(\"USGS/SRTMGL1_003\")\n",
        "#*** Start of imports. If edited, may not auto-convert in the playground. ***#\n",
        "roi =\n",
        "\n",
        "    # shown: False #\n",
        "    # displayProperties: [\n",
        "      {\n",
        "        \"type\": \"rectangle\"\n",
        "      }\n",
        "    ] #\n",
        "    ee.Geometry.Polygon(\n",
        "        [[[-6.992187500000009, 23.241346102386135],\n",
        "          [-6.992187500000009, -52.908902047770255],\n",
        "          [92.49999999999999, -52.908902047770255],\n",
        "          [92.49999999999999, 23.241346102386135]]], None, False)\n",
        "#**** End of imports. If edited, may not auto-convert in the playground. ****#\n",
        "mean_0_20 =\n",
        "'<RasterSymbolizer>' + \\\n",
        " '<ColorMap type=\"ramp\">' + \\\n",
        "  '<ColorMapEntry color=\"#000004\" label=\"0-21.2\" opacity=\"1\" quantity=\"31\"/>' + \\\n",
        "  '<ColorMapEntry color=\"#0C0927\" label=\"21.2-35.6\" opacity=\"1\" quantity=\"36\"/>' + \\\n",
        "  '<ColorMapEntry color=\"#231151\" label=\"35.6-53.6\" opacity=\"1\" quantity=\"40\"/>' + \\\n",
        "  '<ColorMapEntry color=\"#410F75\" label=\"53.6-65.7\" opacity=\"1\" quantity=\"42\"/>' + \\\n",
        "  '<ColorMapEntry color=\"#5F187F\" label=\"65.7-72.7\" opacity=\"1\" quantity=\"43\"/>' + \\\n",
        "  '<ColorMapEntry color=\"#7B2382\" label=\"72.7-80.5\" opacity=\"1\" quantity=\"44\"/>' + \\\n",
        "  '<ColorMapEntry color=\"#982D80\" label=\"80.5-89\" opacity=\"1\" quantity=\"45\"/>' + \\\n",
        "  '<ColorMapEntry color=\"#B63679\" label=\"89-98.5\" opacity=\"1\" quantity=\"46\"/>' + \\\n",
        "  '<ColorMapEntry color=\"#D3436E\" label=\"98.5-108.9\" opacity=\"1\" quantity=\"47\"/>' + \\\n",
        "  '<ColorMapEntry color=\"#EB5760\" label=\"108.9-120.5\" opacity=\"1\" quantity=\"48\"/>' + \\\n",
        "  '<ColorMapEntry color=\"#F8765C\" label=\"120.5-133.3\" opacity=\"1\" quantity=\"49\"/>' + \\\n",
        "  '<ColorMapEntry color=\"#FD9969\" label=\"133.3-147.4\" opacity=\"1\" quantity=\"50\"/>' + \\\n",
        "  '<ColorMapEntry color=\"#FEBA80\" label=\"147.4-163\" opacity=\"1\" quantity=\"51\"/>' + \\\n",
        "  '<ColorMapEntry color=\"#FDDC9E\" label=\"163-199.3\" opacity=\"1\" quantity=\"53\"/>' + \\\n",
        "  '<ColorMapEntry color=\"#FCFDBF\" label=\"199.3-1800\" opacity=\"1\" quantity=\"55\"/>' + \\\n",
        " '</ColorMap>' + \\\n",
        " '<ContrastEnhancement/>' + \\\n",
        "'</RasterSymbolizer>'\n",
        "\n",
        "mean_20_50 =\n",
        "'<RasterSymbolizer>' + \\\n",
        " '<ColorMap type=\"ramp\">' + \\\n",
        "  '<ColorMapEntry color=\"#000004\" label=\"0-21.2\" opacity=\"1\" quantity=\"31\"/>' + \\\n",
        "  '<ColorMapEntry color=\"#0C0927\" label=\"21.2-35.6\" opacity=\"1\" quantity=\"36\"/>' + \\\n",
        "  '<ColorMapEntry color=\"#231151\" label=\"35.6-53.6\" opacity=\"1\" quantity=\"40\"/>' + \\\n",
        "  '<ColorMapEntry color=\"#410F75\" label=\"53.6-65.7\" opacity=\"1\" quantity=\"42\"/>' + \\\n",
        "  '<ColorMapEntry color=\"#5F187F\" label=\"65.7-72.7\" opacity=\"1\" quantity=\"43\"/>' + \\\n",
        "  '<ColorMapEntry color=\"#7B2382\" label=\"72.7-80.5\" opacity=\"1\" quantity=\"44\"/>' + \\\n",
        "  '<ColorMapEntry color=\"#982D80\" label=\"80.5-89\" opacity=\"1\" quantity=\"45\"/>' + \\\n",
        "  '<ColorMapEntry color=\"#B63679\" label=\"89-98.5\" opacity=\"1\" quantity=\"46\"/>' + \\\n",
        "  '<ColorMapEntry color=\"#D3436E\" label=\"98.5-108.9\" opacity=\"1\" quantity=\"47\"/>' + \\\n",
        "  '<ColorMapEntry color=\"#EB5760\" label=\"108.9-120.5\" opacity=\"1\" quantity=\"48\"/>' + \\\n",
        "  '<ColorMapEntry color=\"#F8765C\" label=\"120.5-133.3\" opacity=\"1\" quantity=\"49\"/>' + \\\n",
        "  '<ColorMapEntry color=\"#FD9969\" label=\"133.3-147.4\" opacity=\"1\" quantity=\"50\"/>' + \\\n",
        "  '<ColorMapEntry color=\"#FEBA80\" label=\"147.4-163\" opacity=\"1\" quantity=\"51\"/>' + \\\n",
        "  '<ColorMapEntry color=\"#FDDC9E\" label=\"163-199.3\" opacity=\"1\" quantity=\"53\"/>' + \\\n",
        "  '<ColorMapEntry color=\"#FCFDBF\" label=\"199.3-1800\" opacity=\"1\" quantity=\"55\"/>' + \\\n",
        " '</ColorMap>' + \\\n",
        " '<ContrastEnhancement/>' + \\\n",
        "'</RasterSymbolizer>'\n",
        "\n",
        "stdev_0_20 =\n",
        "'<RasterSymbolizer>' + \\\n",
        " '<ColorMap type=\"ramp\">' + \\\n",
        "  '<ColorMapEntry color=\"#fde725\" label=\"low\" opacity=\"1\" quantity=\"5\"/>' + \\\n",
        "  '<ColorMapEntry color=\"#5dc962\" label=\" \" opacity=\"1\" quantity=\"9\"/>' + \\\n",
        "  '<ColorMapEntry color=\"#20908d\" label=\" \" opacity=\"1\" quantity=\"10\"/>' + \\\n",
        "  '<ColorMapEntry color=\"#3a528b\" label=\" \" opacity=\"1\" quantity=\"12\"/>' + \\\n",
        "  '<ColorMapEntry color=\"#440154\" label=\"high\" opacity=\"1\" quantity=\"14\"/>' + \\\n",
        " '</ColorMap>' + \\\n",
        " '<ContrastEnhancement/>' + \\\n",
        "'</RasterSymbolizer>'\n",
        "\n",
        "stdev_20_50 =\n",
        "'<RasterSymbolizer>' + \\\n",
        " '<ColorMap type=\"ramp\">' + \\\n",
        "  '<ColorMapEntry color=\"#fde725\" label=\"low\" opacity=\"1\" quantity=\"5\"/>' + \\\n",
        "  '<ColorMapEntry color=\"#5dc962\" label=\" \" opacity=\"1\" quantity=\"9\"/>' + \\\n",
        "  '<ColorMapEntry color=\"#20908d\" label=\" \" opacity=\"1\" quantity=\"10\"/>' + \\\n",
        "  '<ColorMapEntry color=\"#3a528b\" label=\" \" opacity=\"1\" quantity=\"12\"/>' + \\\n",
        "  '<ColorMapEntry color=\"#440154\" label=\"high\" opacity=\"1\" quantity=\"14\"/>' + \\\n",
        " '</ColorMap>' + \\\n",
        " '<ContrastEnhancement/>' + \\\n",
        "'</RasterSymbolizer>'\n",
        "\n",
        "Map.setCenter(25, -3, 2)\n",
        "\n",
        "raw = ee.Image(\"ISDASOIL/Africa/v1/aluminium_extractable\")\n",
        "Map.addLayer(\n",
        "    raw.select(0).sldStyle(mean_0_20), {},\n",
        "    \"Aluminium, extractable, mean visualization, 0-20 cm\")\n",
        "Map.addLayer(\n",
        "    raw.select(1).sldStyle(mean_20_50), {},\n",
        "    \"Aluminium, extractable, mean visualization, 20-50 cm\")\n",
        "Map.addLayer(\n",
        "    raw.select(2).sldStyle(stdev_0_20), {},\n",
        "    \"Aluminium, extractable, stdev visualization, 0-20 cm\")\n",
        "Map.addLayer(\n",
        "    raw.select(3).sldStyle(stdev_20_50), {},\n",
        "    \"Aluminium, extractable, stdev visualization, 20-50 cm\")\n",
        "\n",
        "converted = raw.divide(10).exp().subtract(1)\n",
        "Map.addLayer(\n",
        "    converted.select(0), {'min': 0, 'max': 100},\n",
        "    \"Aluminium, extractable, mean, 0-20 cm\")\n",
        "\n",
        "\n",
        "Export.image.toDrive({\n",
        "  'image' : raw.select(3),\n",
        "  'description': 'Aluminium',\n",
        "  'maxPixels': 3784216672400,\n",
        "  'region' : roi})"
      ],
      "outputs": [],
      "execution_count": null
    },
    {
      "cell_type": "markdown",
      "metadata": {},
      "source": [
        "## Display the interactive map"
      ]
    },
    {
      "cell_type": "code",
      "metadata": {},
      "source": [
        "Map"
      ],
      "outputs": [],
      "execution_count": null
    }
  ],
  "metadata": {
    "anaconda-cloud": {},
    "kernelspec": {
      "display_name": "Python 3",
      "language": "python",
      "name": "python3"
    },
    "language_info": {
      "codemirror_mode": {
        "name": "ipython",
        "version": 3
      },
      "file_extension": ".py",
      "mimetype": "text/x-python",
      "name": "python",
      "nbconvert_exporter": "python",
      "pygments_lexer": "ipython3",
      "version": "3.6.1"
    }
  },
  "nbformat": 4,
  "nbformat_minor": 4
}