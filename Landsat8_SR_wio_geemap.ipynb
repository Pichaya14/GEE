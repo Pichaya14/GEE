{
 "cells": [
  {
   "cell_type": "markdown",
   "metadata": {},
   "source": [
    "## Import libraries"
   ]
  },
  {
   "cell_type": "code",
   "execution_count": 5,
   "metadata": {},
   "outputs": [
    {
     "ename": "ModuleNotFoundError",
     "evalue": "No module named 'apifunction'",
     "output_type": "error",
     "traceback": [
      "\u001b[1;31m---------------------------------------------------------------------------\u001b[0m",
      "\u001b[1;31mModuleNotFoundError\u001b[0m                       Traceback (most recent call last)",
      "Cell \u001b[1;32mIn [5], line 3\u001b[0m\n\u001b[0;32m      1\u001b[0m \u001b[38;5;28;01mimport\u001b[39;00m \u001b[38;5;21;01mee\u001b[39;00m\n\u001b[0;32m      2\u001b[0m \u001b[38;5;28;01mimport\u001b[39;00m \u001b[38;5;21;01mgeemap\u001b[39;00m\n\u001b[1;32m----> 3\u001b[0m \u001b[38;5;28;01mimport\u001b[39;00m \u001b[38;5;21;01mapifunction\u001b[39;00m\n\u001b[0;32m      4\u001b[0m geemap\u001b[38;5;241m.\u001b[39mupdate_package()\n",
      "\u001b[1;31mModuleNotFoundError\u001b[0m: No module named 'apifunction'"
     ]
    }
   ],
   "source": [
    "import ee\n",
    "import geemap\n",
    "import apifunction\n",
    "geemap.update_package()"
   ]
  },
  {
   "cell_type": "markdown",
   "metadata": {},
   "source": [
    "## Create an interactive map"
   ]
  },
  {
   "cell_type": "code",
   "execution_count": 2,
   "metadata": {},
   "outputs": [
    {
     "data": {
      "application/vnd.jupyter.widget-view+json": {
       "model_id": "f44e40e9a5e24b5f8260e274b53333aa",
       "version_major": 2,
       "version_minor": 0
      },
      "text/plain": [
       "Map(center=[10, -10], controls=(WidgetControl(options=['position', 'transparent_bg'], widget=HBox(children=(To…"
      ]
     },
     "metadata": {},
     "output_type": "display_data"
    }
   ],
   "source": [
    "Map = geemap.Map(center=[10, -10], zoom=4)\n",
    "Map"
   ]
  },
  {
   "cell_type": "markdown",
   "metadata": {},
   "source": [
    "## Add Earth Engine Python script"
   ]
  },
  {
   "cell_type": "code",
   "execution_count": 3,
   "metadata": {},
   "outputs": [],
   "source": [
    "\n",
    "\n",
    "# WIO sym area\n",
    "wio =  ee.Geometry.Polygon(\n",
    "        [[[-1.1801562499999951, 22.240800146484577],\n",
    "          [-1.1801562499999951, -40.201954377811155],\n",
    "          [81.08546875, -40.201954377811155],\n",
    "          [81.08546875, 22.240800146484577]]], None, False)\n",
    "#**** End of imports. If edited, may not auto-convert in the playground. ****#\n",
    "# This example demonstrates the use of the Landsat 8 Collection 2, Level 2\n",
    "# QA_PIXEL band (CFMask) to mask unwanted pixels.\n",
    "\n",
    "Map.addLayer(wio, {}, 'wio')"
   ]
  },
  {
   "cell_type": "code",
   "execution_count": 4,
   "metadata": {},
   "outputs": [
    {
     "ename": "AttributeError",
     "evalue": "'ImageCollection' object has no attribute 'maskL8sr'",
     "output_type": "error",
     "traceback": [
      "\u001b[1;31m---------------------------------------------------------------------------\u001b[0m",
      "\u001b[1;31mAttributeError\u001b[0m                            Traceback (most recent call last)",
      "Cell \u001b[1;32mIn [4], line 7\u001b[0m\n\u001b[0;32m      1\u001b[0m start_date \u001b[38;5;241m=\u001b[39m \u001b[38;5;124m'\u001b[39m\u001b[38;5;124m2015-01-01\u001b[39m\u001b[38;5;124m'\u001b[39m,\n\u001b[0;32m      2\u001b[0m end_date \u001b[38;5;241m=\u001b[39m \u001b[38;5;124m'\u001b[39m\u001b[38;5;124m2022-12-31\u001b[39m\u001b[38;5;124m'\u001b[39m\n\u001b[0;32m      4\u001b[0m l8 \u001b[38;5;241m=\u001b[39m (\u001b[43mee\u001b[49m\u001b[38;5;241;43m.\u001b[39;49m\u001b[43mImageCollection\u001b[49m\u001b[43m(\u001b[49m\u001b[38;5;124;43m'\u001b[39;49m\u001b[38;5;124;43mLANDSAT/LC08/C02/T1_L2\u001b[39;49m\u001b[38;5;124;43m'\u001b[39;49m\u001b[43m)\u001b[49m\u001b[43m \u001b[49m\n\u001b[0;32m      5\u001b[0m \u001b[43m                     \u001b[49m\u001b[38;5;241;43m.\u001b[39;49m\u001b[43mfilterBounds\u001b[49m\u001b[43m(\u001b[49m\u001b[43mwio\u001b[49m\u001b[43m)\u001b[49m\n\u001b[0;32m      6\u001b[0m \u001b[43m                     \u001b[49m\u001b[38;5;241;43m.\u001b[39;49m\u001b[43mfilterDate\u001b[49m\u001b[43m(\u001b[49m\u001b[43mstart_date\u001b[49m\u001b[43m,\u001b[49m\u001b[43m \u001b[49m\u001b[43mend_date\u001b[49m\u001b[43m)\u001b[49m\u001b[43m \u001b[49m\n\u001b[1;32m----> 7\u001b[0m \u001b[43m                     \u001b[49m\u001b[38;5;241;43m.\u001b[39;49m\u001b[43mmaskL8sr\u001b[49m)\n\u001b[0;32m      8\u001b[0m \u001b[38;5;28;01mdef\u001b[39;00m \u001b[38;5;21mmaskL8sr\u001b[39m(l8):\n\u001b[0;32m      9\u001b[0m   \u001b[38;5;66;03m# Bit 0 - Fill\u001b[39;00m\n\u001b[0;32m     10\u001b[0m   \u001b[38;5;66;03m# Bit 1 - Dilated Cloud\u001b[39;00m\n\u001b[0;32m     11\u001b[0m   \u001b[38;5;66;03m# Bit 2 - Cirrus\u001b[39;00m\n\u001b[0;32m     12\u001b[0m   \u001b[38;5;66;03m# Bit 3 - Cloud\u001b[39;00m\n\u001b[0;32m     13\u001b[0m   \u001b[38;5;66;03m# Bit 4 - Cloud Shadow\u001b[39;00m\n\u001b[0;32m     14\u001b[0m     qaMask \u001b[38;5;241m=\u001b[39m l8\u001b[38;5;241m.\u001b[39mselect(\u001b[38;5;124m'\u001b[39m\u001b[38;5;124mQA_PIXEL\u001b[39m\u001b[38;5;124m'\u001b[39m)\u001b[38;5;241m.\u001b[39mbitwiseAnd(parseInt(\u001b[38;5;124m'\u001b[39m\u001b[38;5;124m11111\u001b[39m\u001b[38;5;124m'\u001b[39m, \u001b[38;5;241m2\u001b[39m))\u001b[38;5;241m.\u001b[39meq(\u001b[38;5;241m0\u001b[39m)\n",
      "\u001b[1;31mAttributeError\u001b[0m: 'ImageCollection' object has no attribute 'maskL8sr'"
     ]
    }
   ],
   "source": [
    "start_date = '2015-01-01',\n",
    "end_date = '2022-12-31'\n",
    "\n",
    "l8 = (ee.ImageCollection('LANDSAT/LC08/C02/T1_L2') \n",
    "                     .filterBounds(wio)\n",
    "                     .filterDate(start_date, end_date) \n",
    "                     .maskL8sr)\n",
    "def maskL8sr(l8):\n",
    "  # Bit 0 - Fill\n",
    "  # Bit 1 - Dilated Cloud\n",
    "  # Bit 2 - Cirrus\n",
    "  # Bit 3 - Cloud\n",
    "  # Bit 4 - Cloud Shadow\n",
    "    qaMask = l8.select('QA_PIXEL').bitwiseAnd(parseInt('11111', 2)).eq(0)\n",
    "    saturationMask = l8.select('QA_RADSAT').eq(0)\n",
    "\n",
    "  # Apply the scaling factors to the appropriate bands.\n",
    "    opticalBands = l8.select('SR_B.').multiply(0.0000275).add(-0.2)\n",
    "    thermalBands = l8.select('ST_B.*').multiply(0.00341802).add(149.0)\n",
    "\n",
    "  # Replace the original bands with the scaled ones and apply the masks.\n",
    "    return l8.addBands(opticalBands, None, True) \\\n",
    "                .addBands(thermalBands, None, True) \\\n",
    "                .updateMask(qaMask) \\\n",
    "                .updateMask(saturationMask)\n",
    "\n",
    "\n",
    "# Map the function over one year of data.\n",
    "\n",
    "\n",
    "l8_median = l8.median()\n",
    "\n",
    "# Display the results.\n",
    "Map.addLayer(l8_median, {'bands': ['SR_B4',  'SR_B3',  'SR_B2'], 'min': 0, 'max': 0.3})\n",
    "\n",
    "\n",
    "Export.image.toDrive({\n",
    "  'image' : composite,\n",
    "  'description': 'L8_SR_wio_2015_2022',\n",
    "  'maxPixels': 3784216672400,\n",
    "  'region' : wio})"
   ]
  },
  {
   "cell_type": "code",
   "execution_count": null,
   "metadata": {},
   "outputs": [],
   "source": []
  },
  {
   "cell_type": "markdown",
   "metadata": {},
   "source": [
    "## Display the interactive map"
   ]
  },
  {
   "cell_type": "code",
   "execution_count": null,
   "metadata": {},
   "outputs": [],
   "source": [
    "Map"
   ]
  }
 ],
 "metadata": {
  "anaconda-cloud": {},
  "kernelspec": {
   "display_name": "Python 3 (ipykernel)",
   "language": "python",
   "name": "python3"
  },
  "language_info": {
   "codemirror_mode": {
    "name": "ipython",
    "version": 3
   },
   "file_extension": ".py",
   "mimetype": "text/x-python",
   "name": "python",
   "nbconvert_exporter": "python",
   "pygments_lexer": "ipython3",
   "version": "3.10.8"
  }
 },
 "nbformat": 4,
 "nbformat_minor": 4
}
