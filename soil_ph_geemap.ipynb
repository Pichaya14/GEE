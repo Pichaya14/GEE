{
  "cells": [
    {
      "cell_type": "markdown",
      "metadata": {},
      "source": [
        "## Import libraries"
      ]
    },
    {
      "cell_type": "code",
      "metadata": {},
      "source": [
        "import ee\n",
        "import geemap"
      ],
      "outputs": [],
      "execution_count": null
    },
    {
      "cell_type": "markdown",
      "metadata": {},
      "source": [
        "## Create an interactive map"
      ]
    },
    {
      "cell_type": "code",
      "metadata": {},
      "source": [
        "Map = geemap.Map(center=[40, -100], zoom=4)"
      ],
      "outputs": [],
      "execution_count": null
    },
    {
      "cell_type": "markdown",
      "metadata": {},
      "source": [
        "## Add Earth Engine Python script"
      ]
    },
    {
      "cell_type": "code",
      "metadata": {},
      "source": [
        "# Add Earth Engine dataset\n",
        "image = ee.Image(\"USGS/SRTMGL1_003\")\n",
        "dataset = ee.Image(\"OpenLandMap/SOL/SOL_PH-H2O_USDA-4C1A2A_M/v02\")\n",
        "\n",
        "visualization = {\n",
        "  'bands': ['b0'],\n",
        "  'min': 42.0,\n",
        "  'max': 110.0,\n",
        "  'palette': [\n",
        "    \"FF0000\",\"FF1C00\",\"FF3900\",\"FF5500\",\"FF7100\",\"FF8E00\",\n",
        "    \"FFAA00\",\"FFC600\",\"FFE200\",\"FFFF00\",\"E3FF00\",\"C7FF00\",\n",
        "    \"AAFF00\",\"8EFF00\",\"72FF00\",\"55FF00\",\"39FF00\",\"1DFF00\",\n",
        "    \"01FF00\",\"00FF1C\",\"00FF38\",\"00FF54\",\"00FF71\",\"00FF8D\",\n",
        "    \"00FFA9\",\"00FFC6\",\"00FFE2\",\"00FFFE\",\"00E3FF\",\"00C7FF\",\n",
        "    \"00ABFF\",\"008FFF\",\"0072FF\",\"0056FF\",\"003AFF\",\"001DFF\",\n",
        "    \"0001FF\",\"1B00FF\",\"3800FF\",\"5400FF\",\n",
        "  ]\n",
        "}\n",
        "\n",
        "Map.centerObject(dataset)\n",
        "\n",
        "Map.addLayer(dataset, visualization, \"Soil pH x 10 in H2O\")"
      ],
      "outputs": [],
      "execution_count": null
    },
    {
      "cell_type": "markdown",
      "metadata": {},
      "source": [
        "## Display the interactive map"
      ]
    },
    {
      "cell_type": "code",
      "metadata": {},
      "source": [
        "Map"
      ],
      "outputs": [],
      "execution_count": null
    }
  ],
  "metadata": {
    "anaconda-cloud": {},
    "kernelspec": {
      "display_name": "Python 3",
      "language": "python",
      "name": "python3"
    },
    "language_info": {
      "codemirror_mode": {
        "name": "ipython",
        "version": 3
      },
      "file_extension": ".py",
      "mimetype": "text/x-python",
      "name": "python",
      "nbconvert_exporter": "python",
      "pygments_lexer": "ipython3",
      "version": "3.6.1"
    }
  },
  "nbformat": 4,
  "nbformat_minor": 4
}